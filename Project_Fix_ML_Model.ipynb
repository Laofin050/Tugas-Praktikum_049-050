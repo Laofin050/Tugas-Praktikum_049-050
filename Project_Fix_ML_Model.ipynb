{
  "nbformat": 4,
  "nbformat_minor": 0,
  "metadata": {
    "colab": {
      "name": "Project_Fix_ML_Model.ipynb",
      "provenance": [],
      "collapsed_sections": [],
      "toc_visible": true,
      "include_colab_link": true
    },
    "kernelspec": {
      "name": "python3",
      "display_name": "Python 3"
    },
    "language_info": {
      "name": "python"
    },
    "accelerator": "GPU"
  },
  "cells": [
    {
      "cell_type": "markdown",
      "metadata": {
        "id": "view-in-github",
        "colab_type": "text"
      },
      "source": [
        "<a href=\"https://colab.research.google.com/github/Laofin050/Tugas-Praktikum_049-050/blob/main/Project_Fix_ML_Model.ipynb\" target=\"_parent\"><img src=\"https://colab.research.google.com/assets/colab-badge.svg\" alt=\"Open In Colab\"/></a>"
      ]
    },
    {
      "cell_type": "code",
      "metadata": {
        "id": "DG4wHBH7K71N",
        "colab": {
          "base_uri": "https://localhost:8080/"
        },
        "outputId": "78f52760-7aaf-4a7d-d0e1-5c73783fd98c"
      },
      "source": [
        "# Tulis Program Anda Disini!\n",
        "\n",
        "from google.colab import drive\n",
        "drive.mount('/content/drive')"
      ],
      "execution_count": null,
      "outputs": [
        {
          "output_type": "stream",
          "name": "stdout",
          "text": [
            "Mounted at /content/drive\n"
          ]
        }
      ]
    },
    {
      "cell_type": "code",
      "metadata": {
        "id": "qpSloj6EuguA"
      },
      "source": [
        "import os\n",
        "os.environ['KAGGLE_CONFIG_DIR'] = \"/content/drive/My Drive/Disease\""
      ],
      "execution_count": null,
      "outputs": []
    },
    {
      "cell_type": "code",
      "metadata": {
        "colab": {
          "base_uri": "https://localhost:8080/"
        },
        "id": "rni-1DNZug2x",
        "outputId": "321a88e9-2d3b-409f-a6e4-363b2db88802"
      },
      "source": [
        "%cd /content/drive/My Drive/Disease"
      ],
      "execution_count": null,
      "outputs": [
        {
          "output_type": "stream",
          "name": "stdout",
          "text": [
            "/content/drive/My Drive/Disease\n"
          ]
        }
      ]
    },
    {
      "cell_type": "code",
      "metadata": {
        "id": "8Y_KSTW3ruSl"
      },
      "source": [
        "import matplotlib.pyplot as plt\n",
        "import seaborn as sns\n",
        "\n",
        "import keras\n",
        "from keras.models import Sequential\n",
        "from keras.layers import Dense, Conv2D , MaxPool2D , Flatten , Dropout , BatchNormalization, AveragePooling2D\n",
        "from keras.preprocessing.image import ImageDataGenerator\n",
        "from sklearn.model_selection import train_test_split\n",
        "from sklearn.metrics import classification_report,confusion_matrix\n",
        "from keras.callbacks import ReduceLROnPlateau\n",
        "import cv2\n",
        "import os"
      ],
      "execution_count": null,
      "outputs": []
    },
    {
      "cell_type": "code",
      "metadata": {
        "colab": {
          "base_uri": "https://localhost:8080/"
        },
        "id": "l6-r4zbTug8T",
        "outputId": "9df3fc29-8940-4436-f11d-bfdff999ac17"
      },
      "source": [
        "ls"
      ],
      "execution_count": null,
      "outputs": [
        {
          "output_type": "stream",
          "name": "stdout",
          "text": [
            "kaggle.json\n"
          ]
        }
      ]
    },
    {
      "cell_type": "code",
      "metadata": {
        "colab": {
          "base_uri": "https://localhost:8080/"
        },
        "id": "lB12kI18uhBv",
        "outputId": "8cfc2a40-cc5f-4370-ba0d-e67102ae9e4d"
      },
      "source": [
        "!kaggle datasets download -d paultimothymooney/chest-xray-pneumonia"
      ],
      "execution_count": null,
      "outputs": [
        {
          "output_type": "stream",
          "name": "stdout",
          "text": [
            "Downloading chest-xray-pneumonia.zip to /content/drive/My Drive/Disease\n",
            "100% 2.28G/2.29G [00:51<00:00, 61.2MB/s]\n",
            "100% 2.29G/2.29G [00:51<00:00, 47.5MB/s]\n"
          ]
        }
      ]
    },
    {
      "cell_type": "code",
      "metadata": {
        "id": "CHYEip7auhDx"
      },
      "source": [
        "!unzip \\*.zip &> /dev/null && rm *.zip"
      ],
      "execution_count": null,
      "outputs": []
    },
    {
      "cell_type": "code",
      "metadata": {
        "colab": {
          "base_uri": "https://localhost:8080/"
        },
        "id": "4qp6eO5buhFj",
        "outputId": "4b47cb67-056e-4d34-d820-8800ea152456"
      },
      "source": [
        "ls"
      ],
      "execution_count": null,
      "outputs": [
        {
          "output_type": "stream",
          "name": "stdout",
          "text": [
            "\u001b[0m\u001b[01;34mchest_xray\u001b[0m/  kaggle.json\n"
          ]
        }
      ]
    },
    {
      "cell_type": "code",
      "metadata": {
        "id": "1WS07NBtuhHZ"
      },
      "source": [
        "from os import mkdir\n",
        "\n",
        "mkdir ('Data')"
      ],
      "execution_count": null,
      "outputs": []
    },
    {
      "cell_type": "code",
      "metadata": {
        "colab": {
          "base_uri": "https://localhost:8080/",
          "height": 35
        },
        "id": "QBQtinG_UB2M",
        "outputId": "3c55d35d-c0bb-41b2-910b-ff2a864ba007"
      },
      "source": [
        "import shutil,sys\n",
        "\n",
        "shutil.move(\"/content/drive/My Drive/Disease/chest_xray/train/NORMAL\", \"/content/drive/My Drive/Disease/Data\")\n",
        "shutil.move(\"/content/drive/My Drive/Disease/chest_xray/train/PNEUMONIA\", \"/content/drive/My Drive/Disease/Data\")"
      ],
      "execution_count": null,
      "outputs": [
        {
          "output_type": "execute_result",
          "data": {
            "application/vnd.google.colaboratory.intrinsic+json": {
              "type": "string"
            },
            "text/plain": [
              "'/content/drive/My Drive/Disease/Data/PNEUMONIA'"
            ]
          },
          "metadata": {},
          "execution_count": 11
        }
      ]
    },
    {
      "cell_type": "code",
      "metadata": {
        "id": "1VZzN0bTuhM9"
      },
      "source": [
        "import numpy as np\n",
        "import pandas as pd\n",
        "import os\n",
        "from shutil import copyfile\n",
        "\n",
        "TRAIN_DIR = \"/content/drive/My Drive/Disease/Train/\"\n",
        "VALID_DIR =\"/content/drive/My Drive/Disease/Valid/\"\n",
        "TEST_DIR =\"/content/drive/My Drive/Disease/Test/\"\n",
        "\n",
        "os.mkdir(TRAIN_DIR)\n",
        "os.mkdir(VALID_DIR)\n",
        "os.mkdir(TEST_DIR)\n",
        "\n",
        "for label in ['NORMAL', 'PNEUMONIA']:\n",
        "    os.mkdir(TRAIN_DIR+label)\n",
        "    os.mkdir(VALID_DIR+label)\n",
        "    os.mkdir(TEST_DIR+label)"
      ],
      "execution_count": null,
      "outputs": []
    },
    {
      "cell_type": "code",
      "metadata": {
        "colab": {
          "base_uri": "https://localhost:8080/"
        },
        "id": "5Nr7QHYUuhQj",
        "outputId": "71a5a320-d14d-4a39-910c-24129c2d5844"
      },
      "source": [
        "import random\n",
        "\n",
        "def train_valid_test_split(source, train_dir, valid_dir, test_dir,train_size, valid_size, test_size):\n",
        "    # get files\n",
        "    files = []\n",
        "    for filename in os.listdir(source):\n",
        "        file = source + filename\n",
        "        if os.path.getsize(file) > 0:\n",
        "            files.append(filename)\n",
        "    \n",
        "    # train valid split\n",
        "    train_size = int(len(files) * (1-(valid_size + train_size)))\n",
        "    valid_size = int(len(files) * (1-(valid_size + test_size)))\n",
        "    test_size = int(len(files) * (1-train_size))\n",
        "  \n",
        "    # shuffle the dataset\n",
        "    shuffled_files = random.sample(files, len(files))\n",
        "    \n",
        "    train_set = shuffled_files[train_size:valid_size]\n",
        "    valid_set = shuffled_files[valid_size:]\n",
        "    test_set = shuffled_files[:train_size]\n",
        "    \n",
        "    for filename in train_set:\n",
        "        filepath = source + filename\n",
        "        destination = train_dir + filename\n",
        "        copyfile(filepath, destination)\n",
        "        \n",
        "    for filename in valid_set:\n",
        "        filepath = source + filename\n",
        "        destination = valid_dir + filename\n",
        "        copyfile(filepath, destination)\n",
        "    \n",
        "    for filename in test_set:\n",
        "        filepath = source + filename\n",
        "        destination = test_dir + filename\n",
        "        copyfile(filepath, destination)\n",
        "\n",
        "SOURCE = \"/content/drive/My Drive/Disease/Data/\"\n",
        "\n",
        "for label in ['NORMAL', 'PNEUMONIA']:\n",
        "    print(label)\n",
        "    train_valid_test_split(SOURCE+label+'/',  TRAIN_DIR +label+'/', VALID_DIR +label+'/', TEST_DIR +label+'/', train_size=0.8, valid_size=0.19, test_size=0.01)\n",
        "    print('Total images: ', len(os.listdir(SOURCE +label+'/')))\n",
        "    print('Training: ', len(os.listdir(TRAIN_DIR +label+'/')))\n",
        "    print('Validation: ', len(os.listdir(VALID_DIR +label+'/')))\n",
        "    print('Testing: ', len(os.listdir(TEST_DIR +label+'/')))\n",
        "    print()"
      ],
      "execution_count": null,
      "outputs": [
        {
          "output_type": "stream",
          "name": "stdout",
          "text": [
            "NORMAL\n",
            "Total images:  1341\n",
            "Training:  1059\n",
            "Validation:  269\n",
            "Testing:  13\n",
            "\n",
            "PNEUMONIA\n",
            "Total images:  3875\n",
            "Training:  3062\n",
            "Validation:  775\n",
            "Testing:  38\n",
            "\n"
          ]
        }
      ]
    },
    {
      "cell_type": "code",
      "metadata": {
        "id": "_01kRfXxbfNy"
      },
      "source": [
        "from tensorflow.keras.preprocessing.image import ImageDataGenerator\n",
        "train_generator = ImageDataGenerator(\n",
        "    rescale = 1./255,\n",
        "    horizontal_flip = True,\n",
        "    vertical_flip = True,\n",
        "    rotation_range = 90,\n",
        "    height_shift_range = 0.2,\n",
        "    width_shift_range = 0.2,\n",
        "    zoom_range = 0.2\n",
        ")\n",
        "\n",
        "test_generator = ImageDataGenerator(\n",
        "    rescale = 1./255,\n",
        "    validation_split = 0.7\n",
        ")"
      ],
      "execution_count": null,
      "outputs": []
    },
    {
      "cell_type": "code",
      "metadata": {
        "colab": {
          "base_uri": "https://localhost:8080/"
        },
        "id": "Rkl1eGQvbRqP",
        "outputId": "a596d2d0-8484-4aa2-de2b-d24fc5a15ee3"
      },
      "source": [
        "train_images = train_generator.flow_from_directory(\n",
        "    TRAIN_DIR,\n",
        "    target_size=(64, 64),\n",
        "    color_mode='rgb',\n",
        "    class_mode='categorical',\n",
        "    batch_size=32,\n",
        "    shuffle=True,\n",
        "    seed=42\n",
        ")\n",
        "val_images = test_generator.flow_from_directory(\n",
        "    VALID_DIR,\n",
        "    target_size=(64, 64),\n",
        "    color_mode='rgb',\n",
        "    class_mode='categorical',\n",
        "    batch_size=32,\n",
        "    shuffle=True,\n",
        "    seed=42,\n",
        "    subset = 'training'\n",
        ")\n",
        "\n",
        "test_images = test_generator.flow_from_directory(\n",
        "    TEST_DIR,\n",
        "    target_size=(64, 64),\n",
        "    color_mode='rgb',\n",
        "    class_mode='categorical',\n",
        "    batch_size=32,\n",
        "    shuffle=False,\n",
        "    seed=42,\n",
        "    subset = 'validation'\n",
        ")"
      ],
      "execution_count": null,
      "outputs": [
        {
          "output_type": "stream",
          "name": "stdout",
          "text": [
            "Found 4121 images belonging to 2 classes.\n",
            "Found 314 images belonging to 2 classes.\n",
            "Found 35 images belonging to 2 classes.\n"
          ]
        }
      ]
    },
    {
      "cell_type": "markdown",
      "metadata": {
        "id": "OZKr8vQu8l-c"
      },
      "source": [
        "**MODELLING**"
      ]
    },
    {
      "cell_type": "code",
      "metadata": {
        "id": "H2min9ewcH4E"
      },
      "source": [
        "# TULIS KODE ANDA DISINI\n",
        "import tensorflow as tf\n",
        "from tensorflow.keras.models import Sequential, load_model\n",
        "from tensorflow.keras.layers import Dense, Conv2D, MaxPool2D, Flatten, BatchNormalization, Dropout\n",
        "model = tf.keras.models.Sequential([\n",
        "    tf.keras.layers.Conv2D(16, (3, 3), activation='relu', input_shape=(64, 64, 3)),\n",
        "    tf.keras.layers.MaxPooling2D(2, 2),\n",
        "    tf.keras.layers.Dropout(0.2),\n",
        "    tf.keras.layers.BatchNormalization(),\n",
        "    tf.keras.layers.Conv2D(16, (3, 3), activation='relu'),\n",
        "    tf.keras.layers.MaxPooling2D(2, 2),\n",
        "    tf.keras.layers.Dropout(0.2),\n",
        "    tf.keras.layers.BatchNormalization(),\n",
        "    tf.keras.layers.Conv2D(32, (3, 3), activation='relu'),\n",
        "    tf.keras.layers.MaxPooling2D(2, 2),\n",
        "    tf.keras.layers.Dropout(0.2),\n",
        "    tf.keras.layers.BatchNormalization(),\n",
        "    tf.keras.layers.Flatten(),\n",
        "    tf.keras.layers.Dense(64, activation='relu'),\n",
        "    tf.keras.layers.Dropout(0.2),\n",
        "    tf.keras.layers.BatchNormalization(),\n",
        "    tf.keras.layers.Dense(2, activation='softmax')\n",
        "])"
      ],
      "execution_count": null,
      "outputs": []
    },
    {
      "cell_type": "code",
      "metadata": {
        "colab": {
          "base_uri": "https://localhost:8080/"
        },
        "id": "RwhgplSocH4J",
        "outputId": "7224eeb9-bc5a-4998-97de-14b8ecca41f7"
      },
      "source": [
        "# Print model summary\n",
        "print(model.summary())"
      ],
      "execution_count": null,
      "outputs": [
        {
          "output_type": "stream",
          "name": "stdout",
          "text": [
            "Model: \"sequential_2\"\n",
            "_________________________________________________________________\n",
            " Layer (type)                Output Shape              Param #   \n",
            "=================================================================\n",
            " conv2d_8 (Conv2D)           (None, 62, 62, 16)        448       \n",
            "                                                                 \n",
            " max_pooling2d_8 (MaxPooling  (None, 31, 31, 16)       0         \n",
            " 2D)                                                             \n",
            "                                                                 \n",
            " dropout_6 (Dropout)         (None, 31, 31, 16)        0         \n",
            "                                                                 \n",
            " batch_normalization_8 (Batc  (None, 31, 31, 16)       64        \n",
            " hNormalization)                                                 \n",
            "                                                                 \n",
            " conv2d_9 (Conv2D)           (None, 29, 29, 16)        2320      \n",
            "                                                                 \n",
            " max_pooling2d_9 (MaxPooling  (None, 14, 14, 16)       0         \n",
            " 2D)                                                             \n",
            "                                                                 \n",
            " dropout_7 (Dropout)         (None, 14, 14, 16)        0         \n",
            "                                                                 \n",
            " batch_normalization_9 (Batc  (None, 14, 14, 16)       64        \n",
            " hNormalization)                                                 \n",
            "                                                                 \n",
            " conv2d_10 (Conv2D)          (None, 12, 12, 32)        4640      \n",
            "                                                                 \n",
            " max_pooling2d_10 (MaxPoolin  (None, 6, 6, 32)         0         \n",
            " g2D)                                                            \n",
            "                                                                 \n",
            " dropout_8 (Dropout)         (None, 6, 6, 32)          0         \n",
            "                                                                 \n",
            " batch_normalization_10 (Bat  (None, 6, 6, 32)         128       \n",
            " chNormalization)                                                \n",
            "                                                                 \n",
            " flatten_2 (Flatten)         (None, 1152)              0         \n",
            "                                                                 \n",
            " dense_4 (Dense)             (None, 64)                73792     \n",
            "                                                                 \n",
            " dropout_9 (Dropout)         (None, 64)                0         \n",
            "                                                                 \n",
            " batch_normalization_11 (Bat  (None, 64)               256       \n",
            " chNormalization)                                                \n",
            "                                                                 \n",
            " dense_5 (Dense)             (None, 2)                 130       \n",
            "                                                                 \n",
            "=================================================================\n",
            "Total params: 81,842\n",
            "Trainable params: 81,586\n",
            "Non-trainable params: 256\n",
            "_________________________________________________________________\n",
            "None\n"
          ]
        }
      ]
    },
    {
      "cell_type": "code",
      "metadata": {
        "colab": {
          "base_uri": "https://localhost:8080/"
        },
        "id": "Wan6_Gp6cH4M",
        "outputId": "b08c55a3-9cca-4d94-fc7e-31731e54f080"
      },
      "source": [
        "# Compile model\n",
        "from tensorflow.keras.optimizers import Adam\n",
        "\n",
        "model.compile(optimizer=Adam(lr=0.0001), \n",
        "              loss='categorical_crossentropy', \n",
        "              metrics=['accuracy'])"
      ],
      "execution_count": null,
      "outputs": [
        {
          "output_type": "stream",
          "name": "stderr",
          "text": [
            "/usr/local/lib/python3.7/dist-packages/keras/optimizer_v2/adam.py:105: UserWarning: The `lr` argument is deprecated, use `learning_rate` instead.\n",
            "  super(Adam, self).__init__(name, **kwargs)\n"
          ]
        }
      ]
    },
    {
      "cell_type": "code",
      "metadata": {
        "colab": {
          "base_uri": "https://localhost:8080/"
        },
        "id": "KyPH9oANcH4Q",
        "outputId": "3c5da887-bf97-4fe3-c015-bf4d91242e26"
      },
      "source": [
        "history = model.fit(train_images,\n",
        "                   epochs = 100,\n",
        "                   validation_data = val_images,\n",
        "                   callbacks=[tf.keras.callbacks.ReduceLROnPlateau(\n",
        "                       monitor='val_loss',\n",
        "                       factor=0.5,\n",
        "                       patience=40,\n",
        "                       verbose = 1,\n",
        "                       mode= 'auto',\n",
        "                       cooldown = 1\n",
        "                   )])"
      ],
      "execution_count": null,
      "outputs": [
        {
          "output_type": "stream",
          "name": "stdout",
          "text": [
            "Epoch 1/100\n",
            "129/129 [==============================] - 76s 553ms/step - loss: 0.8015 - accuracy: 0.5834 - val_loss: 0.7915 - val_accuracy: 0.7420 - lr: 1.0000e-04\n",
            "Epoch 2/100\n",
            "129/129 [==============================] - 65s 506ms/step - loss: 0.6635 - accuracy: 0.6860 - val_loss: 1.1685 - val_accuracy: 0.7420 - lr: 1.0000e-04\n",
            "Epoch 3/100\n",
            "129/129 [==============================] - 65s 507ms/step - loss: 0.5825 - accuracy: 0.7384 - val_loss: 1.0272 - val_accuracy: 0.7420 - lr: 1.0000e-04\n",
            "Epoch 4/100\n",
            "129/129 [==============================] - 65s 505ms/step - loss: 0.5775 - accuracy: 0.7445 - val_loss: 0.7854 - val_accuracy: 0.7420 - lr: 1.0000e-04\n",
            "Epoch 5/100\n",
            "129/129 [==============================] - 66s 513ms/step - loss: 0.5323 - accuracy: 0.7755 - val_loss: 0.5339 - val_accuracy: 0.7420 - lr: 1.0000e-04\n",
            "Epoch 6/100\n",
            "129/129 [==============================] - 66s 515ms/step - loss: 0.5035 - accuracy: 0.7823 - val_loss: 0.4269 - val_accuracy: 0.7707 - lr: 1.0000e-04\n",
            "Epoch 7/100\n",
            "129/129 [==============================] - 67s 520ms/step - loss: 0.4682 - accuracy: 0.8005 - val_loss: 0.3332 - val_accuracy: 0.8503 - lr: 1.0000e-04\n",
            "Epoch 8/100\n",
            "129/129 [==============================] - 66s 512ms/step - loss: 0.4417 - accuracy: 0.8197 - val_loss: 0.3228 - val_accuracy: 0.8662 - lr: 1.0000e-04\n",
            "Epoch 9/100\n",
            "129/129 [==============================] - 67s 520ms/step - loss: 0.4295 - accuracy: 0.8197 - val_loss: 0.3000 - val_accuracy: 0.8790 - lr: 1.0000e-04\n",
            "Epoch 10/100\n",
            "129/129 [==============================] - 66s 511ms/step - loss: 0.4140 - accuracy: 0.8255 - val_loss: 0.3904 - val_accuracy: 0.8439 - lr: 1.0000e-04\n",
            "Epoch 11/100\n",
            "129/129 [==============================] - 65s 507ms/step - loss: 0.4070 - accuracy: 0.8284 - val_loss: 0.2995 - val_accuracy: 0.9045 - lr: 1.0000e-04\n",
            "Epoch 12/100\n",
            "129/129 [==============================] - 65s 506ms/step - loss: 0.4038 - accuracy: 0.8282 - val_loss: 0.3041 - val_accuracy: 0.9045 - lr: 1.0000e-04\n",
            "Epoch 13/100\n",
            "129/129 [==============================] - 65s 504ms/step - loss: 0.3921 - accuracy: 0.8323 - val_loss: 0.2830 - val_accuracy: 0.8981 - lr: 1.0000e-04\n",
            "Epoch 14/100\n",
            "129/129 [==============================] - 65s 502ms/step - loss: 0.3910 - accuracy: 0.8328 - val_loss: 0.2742 - val_accuracy: 0.9013 - lr: 1.0000e-04\n",
            "Epoch 15/100\n",
            "129/129 [==============================] - 67s 522ms/step - loss: 0.3801 - accuracy: 0.8352 - val_loss: 0.3408 - val_accuracy: 0.8599 - lr: 1.0000e-04\n",
            "Epoch 16/100\n",
            "129/129 [==============================] - 66s 515ms/step - loss: 0.3581 - accuracy: 0.8428 - val_loss: 0.2806 - val_accuracy: 0.8885 - lr: 1.0000e-04\n",
            "Epoch 17/100\n",
            "129/129 [==============================] - 65s 507ms/step - loss: 0.3615 - accuracy: 0.8445 - val_loss: 0.3492 - val_accuracy: 0.8503 - lr: 1.0000e-04\n",
            "Epoch 18/100\n",
            "129/129 [==============================] - 65s 505ms/step - loss: 0.3583 - accuracy: 0.8440 - val_loss: 0.3504 - val_accuracy: 0.8376 - lr: 1.0000e-04\n",
            "Epoch 19/100\n",
            "129/129 [==============================] - 66s 511ms/step - loss: 0.3493 - accuracy: 0.8520 - val_loss: 0.5363 - val_accuracy: 0.7834 - lr: 1.0000e-04\n",
            "Epoch 20/100\n",
            "129/129 [==============================] - 66s 509ms/step - loss: 0.3434 - accuracy: 0.8505 - val_loss: 0.5424 - val_accuracy: 0.7898 - lr: 1.0000e-04\n",
            "Epoch 21/100\n",
            "129/129 [==============================] - 66s 509ms/step - loss: 0.3570 - accuracy: 0.8449 - val_loss: 0.5195 - val_accuracy: 0.7962 - lr: 1.0000e-04\n",
            "Epoch 22/100\n",
            "129/129 [==============================] - 68s 527ms/step - loss: 0.3543 - accuracy: 0.8493 - val_loss: 0.3923 - val_accuracy: 0.8312 - lr: 1.0000e-04\n",
            "Epoch 23/100\n",
            "129/129 [==============================] - 65s 500ms/step - loss: 0.3302 - accuracy: 0.8636 - val_loss: 0.3530 - val_accuracy: 0.8503 - lr: 1.0000e-04\n",
            "Epoch 24/100\n",
            "129/129 [==============================] - 64s 497ms/step - loss: 0.3415 - accuracy: 0.8479 - val_loss: 0.4144 - val_accuracy: 0.8248 - lr: 1.0000e-04\n",
            "Epoch 25/100\n",
            "129/129 [==============================] - 64s 496ms/step - loss: 0.3472 - accuracy: 0.8459 - val_loss: 0.4135 - val_accuracy: 0.8217 - lr: 1.0000e-04\n",
            "Epoch 26/100\n",
            "129/129 [==============================] - 64s 497ms/step - loss: 0.3258 - accuracy: 0.8525 - val_loss: 0.4836 - val_accuracy: 0.7994 - lr: 1.0000e-04\n",
            "Epoch 27/100\n",
            "129/129 [==============================] - 64s 497ms/step - loss: 0.3224 - accuracy: 0.8636 - val_loss: 0.2788 - val_accuracy: 0.8885 - lr: 1.0000e-04\n",
            "Epoch 28/100\n",
            "129/129 [==============================] - 64s 494ms/step - loss: 0.3186 - accuracy: 0.8600 - val_loss: 0.2867 - val_accuracy: 0.8885 - lr: 1.0000e-04\n",
            "Epoch 29/100\n",
            "129/129 [==============================] - 64s 497ms/step - loss: 0.3337 - accuracy: 0.8576 - val_loss: 0.3836 - val_accuracy: 0.8280 - lr: 1.0000e-04\n",
            "Epoch 30/100\n",
            "129/129 [==============================] - 64s 493ms/step - loss: 0.3254 - accuracy: 0.8532 - val_loss: 0.7803 - val_accuracy: 0.6561 - lr: 1.0000e-04\n",
            "Epoch 31/100\n",
            "129/129 [==============================] - 64s 492ms/step - loss: 0.3231 - accuracy: 0.8578 - val_loss: 0.4835 - val_accuracy: 0.7930 - lr: 1.0000e-04\n",
            "Epoch 32/100\n",
            "129/129 [==============================] - 64s 494ms/step - loss: 0.3157 - accuracy: 0.8612 - val_loss: 0.4374 - val_accuracy: 0.7962 - lr: 1.0000e-04\n",
            "Epoch 33/100\n",
            "129/129 [==============================] - 64s 498ms/step - loss: 0.3082 - accuracy: 0.8656 - val_loss: 0.7753 - val_accuracy: 0.6688 - lr: 1.0000e-04\n",
            "Epoch 34/100\n",
            "129/129 [==============================] - 76s 592ms/step - loss: 0.3182 - accuracy: 0.8593 - val_loss: 0.3583 - val_accuracy: 0.8344 - lr: 1.0000e-04\n",
            "Epoch 35/100\n",
            "129/129 [==============================] - 64s 497ms/step - loss: 0.2975 - accuracy: 0.8704 - val_loss: 0.5009 - val_accuracy: 0.7834 - lr: 1.0000e-04\n",
            "Epoch 36/100\n",
            "129/129 [==============================] - 64s 495ms/step - loss: 0.3072 - accuracy: 0.8692 - val_loss: 0.2908 - val_accuracy: 0.8822 - lr: 1.0000e-04\n",
            "Epoch 37/100\n",
            "129/129 [==============================] - 63s 490ms/step - loss: 0.2977 - accuracy: 0.8658 - val_loss: 0.2755 - val_accuracy: 0.8981 - lr: 1.0000e-04\n",
            "Epoch 38/100\n",
            "129/129 [==============================] - 64s 496ms/step - loss: 0.2951 - accuracy: 0.8680 - val_loss: 0.3155 - val_accuracy: 0.8503 - lr: 1.0000e-04\n",
            "Epoch 39/100\n",
            "129/129 [==============================] - 64s 493ms/step - loss: 0.2951 - accuracy: 0.8661 - val_loss: 0.3485 - val_accuracy: 0.8312 - lr: 1.0000e-04\n",
            "Epoch 40/100\n",
            "129/129 [==============================] - 66s 508ms/step - loss: 0.3049 - accuracy: 0.8704 - val_loss: 0.6335 - val_accuracy: 0.7038 - lr: 1.0000e-04\n",
            "Epoch 41/100\n",
            "129/129 [==============================] - 63s 491ms/step - loss: 0.2901 - accuracy: 0.8707 - val_loss: 0.2590 - val_accuracy: 0.8981 - lr: 1.0000e-04\n",
            "Epoch 42/100\n",
            "129/129 [==============================] - 64s 494ms/step - loss: 0.2919 - accuracy: 0.8733 - val_loss: 0.2443 - val_accuracy: 0.9076 - lr: 1.0000e-04\n",
            "Epoch 43/100\n",
            "129/129 [==============================] - 64s 494ms/step - loss: 0.2961 - accuracy: 0.8680 - val_loss: 0.3846 - val_accuracy: 0.8280 - lr: 1.0000e-04\n",
            "Epoch 44/100\n",
            "129/129 [==============================] - 64s 494ms/step - loss: 0.3022 - accuracy: 0.8653 - val_loss: 0.9481 - val_accuracy: 0.5860 - lr: 1.0000e-04\n",
            "Epoch 45/100\n",
            "129/129 [==============================] - 66s 507ms/step - loss: 0.2907 - accuracy: 0.8736 - val_loss: 0.2644 - val_accuracy: 0.8981 - lr: 1.0000e-04\n",
            "Epoch 46/100\n",
            "129/129 [==============================] - 64s 498ms/step - loss: 0.2937 - accuracy: 0.8665 - val_loss: 0.7545 - val_accuracy: 0.6688 - lr: 1.0000e-04\n",
            "Epoch 47/100\n",
            "129/129 [==============================] - 64s 498ms/step - loss: 0.2913 - accuracy: 0.8758 - val_loss: 0.5265 - val_accuracy: 0.7611 - lr: 1.0000e-04\n",
            "Epoch 48/100\n",
            "129/129 [==============================] - 64s 500ms/step - loss: 0.2909 - accuracy: 0.8750 - val_loss: 0.3564 - val_accuracy: 0.8439 - lr: 1.0000e-04\n",
            "Epoch 49/100\n",
            "129/129 [==============================] - 64s 500ms/step - loss: 0.2878 - accuracy: 0.8692 - val_loss: 0.5775 - val_accuracy: 0.7038 - lr: 1.0000e-04\n",
            "Epoch 50/100\n",
            "129/129 [==============================] - 64s 496ms/step - loss: 0.2925 - accuracy: 0.8699 - val_loss: 0.4767 - val_accuracy: 0.7643 - lr: 1.0000e-04\n",
            "Epoch 51/100\n",
            "129/129 [==============================] - 64s 498ms/step - loss: 0.2701 - accuracy: 0.8862 - val_loss: 0.6830 - val_accuracy: 0.6338 - lr: 1.0000e-04\n",
            "Epoch 52/100\n",
            "129/129 [==============================] - 65s 503ms/step - loss: 0.2832 - accuracy: 0.8777 - val_loss: 0.6140 - val_accuracy: 0.6911 - lr: 1.0000e-04\n",
            "Epoch 53/100\n",
            "129/129 [==============================] - 65s 500ms/step - loss: 0.2752 - accuracy: 0.8818 - val_loss: 0.6644 - val_accuracy: 0.6752 - lr: 1.0000e-04\n",
            "Epoch 54/100\n",
            "129/129 [==============================] - 64s 496ms/step - loss: 0.2769 - accuracy: 0.8804 - val_loss: 0.6543 - val_accuracy: 0.6815 - lr: 1.0000e-04\n",
            "Epoch 55/100\n",
            "129/129 [==============================] - 64s 497ms/step - loss: 0.2801 - accuracy: 0.8799 - val_loss: 0.5219 - val_accuracy: 0.7261 - lr: 1.0000e-04\n",
            "Epoch 56/100\n",
            "129/129 [==============================] - 64s 500ms/step - loss: 0.2759 - accuracy: 0.8796 - val_loss: 0.4885 - val_accuracy: 0.7420 - lr: 1.0000e-04\n",
            "Epoch 57/100\n",
            "129/129 [==============================] - 65s 503ms/step - loss: 0.2698 - accuracy: 0.8796 - val_loss: 0.6741 - val_accuracy: 0.6306 - lr: 1.0000e-04\n",
            "Epoch 58/100\n",
            "129/129 [==============================] - 64s 499ms/step - loss: 0.2679 - accuracy: 0.8775 - val_loss: 0.6446 - val_accuracy: 0.6624 - lr: 1.0000e-04\n",
            "Epoch 59/100\n",
            "129/129 [==============================] - 64s 493ms/step - loss: 0.2611 - accuracy: 0.8869 - val_loss: 0.5441 - val_accuracy: 0.7357 - lr: 1.0000e-04\n",
            "Epoch 60/100\n",
            "129/129 [==============================] - 65s 501ms/step - loss: 0.2742 - accuracy: 0.8833 - val_loss: 0.4395 - val_accuracy: 0.7834 - lr: 1.0000e-04\n",
            "Epoch 61/100\n",
            "129/129 [==============================] - 64s 498ms/step - loss: 0.2690 - accuracy: 0.8860 - val_loss: 0.8058 - val_accuracy: 0.6146 - lr: 1.0000e-04\n",
            "Epoch 62/100\n",
            "129/129 [==============================] - 65s 501ms/step - loss: 0.2679 - accuracy: 0.8828 - val_loss: 0.4821 - val_accuracy: 0.7580 - lr: 1.0000e-04\n",
            "Epoch 63/100\n",
            "129/129 [==============================] - 64s 494ms/step - loss: 0.2694 - accuracy: 0.8799 - val_loss: 0.2590 - val_accuracy: 0.8981 - lr: 1.0000e-04\n",
            "Epoch 64/100\n",
            "129/129 [==============================] - 65s 504ms/step - loss: 0.2608 - accuracy: 0.8952 - val_loss: 1.2612 - val_accuracy: 0.4459 - lr: 1.0000e-04\n",
            "Epoch 65/100\n",
            "129/129 [==============================] - 66s 509ms/step - loss: 0.2566 - accuracy: 0.8884 - val_loss: 1.0425 - val_accuracy: 0.5159 - lr: 1.0000e-04\n",
            "Epoch 66/100\n",
            "129/129 [==============================] - 64s 495ms/step - loss: 0.2742 - accuracy: 0.8830 - val_loss: 0.4882 - val_accuracy: 0.7420 - lr: 1.0000e-04\n",
            "Epoch 67/100\n",
            "129/129 [==============================] - 65s 504ms/step - loss: 0.2635 - accuracy: 0.8852 - val_loss: 0.5026 - val_accuracy: 0.7389 - lr: 1.0000e-04\n",
            "Epoch 68/100\n",
            "129/129 [==============================] - 64s 498ms/step - loss: 0.2499 - accuracy: 0.8893 - val_loss: 0.3104 - val_accuracy: 0.8599 - lr: 1.0000e-04\n",
            "Epoch 69/100\n",
            "129/129 [==============================] - 64s 494ms/step - loss: 0.2487 - accuracy: 0.8976 - val_loss: 0.7718 - val_accuracy: 0.6146 - lr: 1.0000e-04\n",
            "Epoch 70/100\n",
            "129/129 [==============================] - 65s 502ms/step - loss: 0.2505 - accuracy: 0.8940 - val_loss: 0.3966 - val_accuracy: 0.8089 - lr: 1.0000e-04\n",
            "Epoch 71/100\n",
            "129/129 [==============================] - 65s 500ms/step - loss: 0.2357 - accuracy: 0.9005 - val_loss: 1.1406 - val_accuracy: 0.4809 - lr: 1.0000e-04\n",
            "Epoch 72/100\n",
            "129/129 [==============================] - 65s 502ms/step - loss: 0.2399 - accuracy: 0.9008 - val_loss: 0.2785 - val_accuracy: 0.9045 - lr: 1.0000e-04\n",
            "Epoch 73/100\n",
            "129/129 [==============================] - 64s 497ms/step - loss: 0.2450 - accuracy: 0.8991 - val_loss: 0.2677 - val_accuracy: 0.8949 - lr: 1.0000e-04\n",
            "Epoch 74/100\n",
            "129/129 [==============================] - 65s 504ms/step - loss: 0.2390 - accuracy: 0.8981 - val_loss: 0.4254 - val_accuracy: 0.8025 - lr: 1.0000e-04\n",
            "Epoch 75/100\n",
            "129/129 [==============================] - 64s 496ms/step - loss: 0.2505 - accuracy: 0.8932 - val_loss: 0.5906 - val_accuracy: 0.7038 - lr: 1.0000e-04\n",
            "Epoch 76/100\n",
            "129/129 [==============================] - 64s 500ms/step - loss: 0.2511 - accuracy: 0.8910 - val_loss: 0.4188 - val_accuracy: 0.7994 - lr: 1.0000e-04\n",
            "Epoch 77/100\n",
            "129/129 [==============================] - 64s 498ms/step - loss: 0.2411 - accuracy: 0.8988 - val_loss: 0.4501 - val_accuracy: 0.8025 - lr: 1.0000e-04\n",
            "Epoch 78/100\n",
            "129/129 [==============================] - 64s 497ms/step - loss: 0.2493 - accuracy: 0.8925 - val_loss: 0.3541 - val_accuracy: 0.8248 - lr: 1.0000e-04\n",
            "Epoch 79/100\n",
            "129/129 [==============================] - 64s 497ms/step - loss: 0.2451 - accuracy: 0.8964 - val_loss: 0.7098 - val_accuracy: 0.6146 - lr: 1.0000e-04\n",
            "Epoch 80/100\n",
            "129/129 [==============================] - 64s 498ms/step - loss: 0.2426 - accuracy: 0.8969 - val_loss: 0.8006 - val_accuracy: 0.5764 - lr: 1.0000e-04\n",
            "Epoch 81/100\n",
            "129/129 [==============================] - 63s 492ms/step - loss: 0.2346 - accuracy: 0.8976 - val_loss: 0.2544 - val_accuracy: 0.9140 - lr: 1.0000e-04\n",
            "Epoch 82/100\n",
            "129/129 [==============================] - ETA: 0s - loss: 0.2398 - accuracy: 0.9003\n",
            "Epoch 00082: ReduceLROnPlateau reducing learning rate to 4.999999873689376e-05.\n",
            "129/129 [==============================] - 63s 490ms/step - loss: 0.2398 - accuracy: 0.9003 - val_loss: 0.5948 - val_accuracy: 0.7070 - lr: 1.0000e-04\n",
            "Epoch 83/100\n",
            "129/129 [==============================] - 64s 494ms/step - loss: 0.2410 - accuracy: 0.9000 - val_loss: 0.4441 - val_accuracy: 0.7962 - lr: 5.0000e-05\n",
            "Epoch 84/100\n",
            "129/129 [==============================] - 64s 497ms/step - loss: 0.2346 - accuracy: 0.8998 - val_loss: 0.8284 - val_accuracy: 0.5828 - lr: 5.0000e-05\n",
            "Epoch 85/100\n",
            "129/129 [==============================] - 64s 497ms/step - loss: 0.2492 - accuracy: 0.8940 - val_loss: 0.4617 - val_accuracy: 0.7962 - lr: 5.0000e-05\n",
            "Epoch 86/100\n",
            "129/129 [==============================] - 64s 499ms/step - loss: 0.2369 - accuracy: 0.9039 - val_loss: 0.4767 - val_accuracy: 0.7803 - lr: 5.0000e-05\n",
            "Epoch 87/100\n",
            "129/129 [==============================] - 64s 495ms/step - loss: 0.2257 - accuracy: 0.9017 - val_loss: 0.6282 - val_accuracy: 0.6624 - lr: 5.0000e-05\n",
            "Epoch 88/100\n",
            "129/129 [==============================] - 64s 496ms/step - loss: 0.2426 - accuracy: 0.8983 - val_loss: 0.3930 - val_accuracy: 0.8217 - lr: 5.0000e-05\n",
            "Epoch 89/100\n",
            "129/129 [==============================] - 64s 496ms/step - loss: 0.2337 - accuracy: 0.9034 - val_loss: 0.8681 - val_accuracy: 0.5669 - lr: 5.0000e-05\n",
            "Epoch 90/100\n",
            "129/129 [==============================] - 64s 499ms/step - loss: 0.2383 - accuracy: 0.8981 - val_loss: 0.4054 - val_accuracy: 0.8248 - lr: 5.0000e-05\n",
            "Epoch 91/100\n",
            "129/129 [==============================] - 65s 501ms/step - loss: 0.2304 - accuracy: 0.9034 - val_loss: 0.5043 - val_accuracy: 0.7389 - lr: 5.0000e-05\n",
            "Epoch 92/100\n",
            "129/129 [==============================] - 64s 500ms/step - loss: 0.2264 - accuracy: 0.9083 - val_loss: 0.6607 - val_accuracy: 0.6688 - lr: 5.0000e-05\n",
            "Epoch 93/100\n",
            "129/129 [==============================] - 64s 493ms/step - loss: 0.2398 - accuracy: 0.8995 - val_loss: 0.6153 - val_accuracy: 0.6752 - lr: 5.0000e-05\n",
            "Epoch 94/100\n",
            "129/129 [==============================] - 64s 495ms/step - loss: 0.2375 - accuracy: 0.9020 - val_loss: 0.4521 - val_accuracy: 0.7866 - lr: 5.0000e-05\n",
            "Epoch 95/100\n",
            "129/129 [==============================] - 65s 502ms/step - loss: 0.2352 - accuracy: 0.9020 - val_loss: 0.5617 - val_accuracy: 0.7038 - lr: 5.0000e-05\n",
            "Epoch 96/100\n",
            "129/129 [==============================] - 64s 496ms/step - loss: 0.2216 - accuracy: 0.9117 - val_loss: 0.4689 - val_accuracy: 0.7771 - lr: 5.0000e-05\n",
            "Epoch 97/100\n",
            "129/129 [==============================] - 64s 498ms/step - loss: 0.2200 - accuracy: 0.9148 - val_loss: 0.4197 - val_accuracy: 0.8089 - lr: 5.0000e-05\n",
            "Epoch 98/100\n",
            "129/129 [==============================] - 64s 494ms/step - loss: 0.2367 - accuracy: 0.9027 - val_loss: 0.2842 - val_accuracy: 0.8758 - lr: 5.0000e-05\n",
            "Epoch 99/100\n",
            "129/129 [==============================] - 64s 500ms/step - loss: 0.2298 - accuracy: 0.9061 - val_loss: 0.2972 - val_accuracy: 0.8790 - lr: 5.0000e-05\n",
            "Epoch 100/100\n",
            "129/129 [==============================] - 64s 496ms/step - loss: 0.2418 - accuracy: 0.8969 - val_loss: 0.4477 - val_accuracy: 0.7834 - lr: 5.0000e-05\n"
          ]
        }
      ]
    },
    {
      "cell_type": "code",
      "metadata": {
        "id": "bmQQSokTXb2K"
      },
      "source": [
        "import matplotlib.pyplot as plt\n",
        "def eval_plot(history):\n",
        "\n",
        "  plt.figure(figsize=(14, 5))\n",
        "\n",
        "  # Accuracy plot\n",
        "  plt.subplot(1, 2, 1)\n",
        "  acc = history.history['accuracy']\n",
        "  val_acc = history.history['val_accuracy']\n",
        "  epochs = range(len(acc))\n",
        "  acc_plot, = plt.plot(epochs, acc, 'r')\n",
        "  val_acc_plot, = plt.plot(epochs, val_acc, 'b')\n",
        "  plt.title('Training and Validation Accuracy')\n",
        "  plt.legend([acc_plot, val_acc_plot], ['Training Accuracy', 'Validation Accuracy'])\n",
        "\n",
        "  # Loss plot\n",
        "  plt.subplot(1, 2, 2)\n",
        "  loss = history.history['loss']\n",
        "  val_loss = history.history['val_loss']\n",
        "  epochs = range(len(loss))\n",
        "  loss_plot, = plt.plot(epochs, loss, 'r')\n",
        "  val_loss_plot, = plt.plot(epochs, val_loss, 'b')\n",
        "  plt.title('Training and Validation Loss')\n",
        "  plt.legend([loss_plot, val_loss_plot], ['Training Loss', 'Validation Loss'])"
      ],
      "execution_count": null,
      "outputs": []
    },
    {
      "cell_type": "code",
      "metadata": {
        "colab": {
          "base_uri": "https://localhost:8080/",
          "height": 336
        },
        "id": "mnYaUk-yXcHa",
        "outputId": "90b5d3dd-a592-4543-cf5f-7bd91fdfa7e3"
      },
      "source": [
        "eval_plot(history)"
      ],
      "execution_count": null,
      "outputs": [
        {
          "output_type": "display_data",
          "data": {
            "image/png": "[encoded data removed]",
            "text/plain": [
              "<Figure size 1008x360 with 2 Axes>"
            ]
          },
          "metadata": {
            "needs_background": "light"
          }
        }
      ]
    },
    {
      "cell_type": "code",
      "metadata": {
        "id": "lmqKtRpwYuk8"
      },
      "source": [
        "from sklearn.metrics import classification_report, confusion_matrix\n",
        "import seaborn as sns\n",
        "\n",
        "def evaluate(model):\n",
        "  valid_generator = train_generator.flow_from_directory(\n",
        "      TRAIN_DIR, \n",
        "      target_size=(64,64), \n",
        "      batch_size=32, \n",
        "      class_mode='categorical',\n",
        "      shuffle = False)\n",
        "\n",
        "  batch_size = 32\n",
        "  num_of_test_samples = len(valid_generator.filenames)\n",
        "\n",
        "  Y_pred = model.predict_generator(valid_generator, num_of_test_samples // batch_size+1)\n",
        "  y_pred = np.argmax(Y_pred, axis=1)\n",
        "\n",
        "  print('\\nConfusion Matrix\\n')\n",
        "  cm = confusion_matrix(valid_generator.classes, y_pred)\n",
        "  plt.figure(figsize=(8, 8))\n",
        "  sns.heatmap(cm, annot=True, fmt='g', vmin=0, cmap='Blues', cbar=False)\n",
        "  plt.xticks(ticks=[0.5, 1.5], labels=['NORMAL', 'PNEUMONIA'])\n",
        "  plt.yticks(ticks=[0.5, 1.5], labels=['NORMAL', 'PNEUMONIA'])\n",
        "  plt.xlabel(\"Predicted\")\n",
        "  plt.ylabel(\"Actual\")\n",
        "  plt.title(\"Confusion Matrix\")\n",
        "  plt.show()\n",
        "\n",
        "  print('\\n\\nClassification Report\\n')\n",
        "  target_names = ['NORMAL', 'PNEUMONIA']\n",
        "  print(classification_report(valid_generator.classes, y_pred, target_names=target_names))\n",
        "\n",
        "  tn, fp, fn, tp = cm.ravel()\n",
        "\n",
        "  precision = tp/(tp+fp)\n",
        "  recall = tp/(tp+fn)\n",
        "  f = 2*((precision*recall)/(precision+recall))\n",
        "\n",
        "  print(\"Recall of the model is {:.2f}\".format(recall))\n",
        "  print(\"Precision of the model is {:.2f}\".format(precision))\n",
        "  print(\"F-1 Score of the model is {:.2f}\".format(f)) "
      ],
      "execution_count": null,
      "outputs": []
    },
    {
      "cell_type": "code",
      "metadata": {
        "colab": {
          "base_uri": "https://localhost:8080/",
          "height": 915
        },
        "id": "aqL6retvY5uM",
        "outputId": "a0f07207-6ecc-41a8-f71d-f101a103fa9f"
      },
      "source": [
        "evaluate(model)"
      ],
      "execution_count": null,
      "outputs": [
        {
          "output_type": "stream",
          "name": "stdout",
          "text": [
            "Found 4121 images belonging to 2 classes.\n"
          ]
        },
        {
          "output_type": "stream",
          "name": "stderr",
          "text": [
            "/usr/local/lib/python3.7/dist-packages/ipykernel_launcher.py:15: UserWarning: `Model.predict_generator` is deprecated and will be removed in a future version. Please use `Model.predict`, which supports generators.\n",
            "  from ipykernel import kernelapp as app\n"
          ]
        },
        {
          "output_type": "stream",
          "name": "stdout",
          "text": [
            "\n",
            "Confusion Matrix\n",
            "\n"
          ]
        },
        {
          "output_type": "display_data",
          "data": {
            "image/png": "[encoded data removed]",
            "text/plain": [
              "<Figure size 576x576 with 1 Axes>"
            ]
          },
          "metadata": {
            "needs_background": "light"
          }
        },
        {
          "output_type": "stream",
          "name": "stdout",
          "text": [
            "\n",
            "\n",
            "Classification Report\n",
            "\n",
            "              precision    recall  f1-score   support\n",
            "\n",
            "      NORMAL       0.81      0.88      0.84      1059\n",
            "   PNEUMONIA       0.96      0.93      0.94      3062\n",
            "\n",
            "    accuracy                           0.92      4121\n",
            "   macro avg       0.88      0.90      0.89      4121\n",
            "weighted avg       0.92      0.92      0.92      4121\n",
            "\n",
            "Recall of the model is 0.93\n",
            "Precision of the model is 0.96\n",
            "F-1 Score of the model is 0.94\n"
          ]
        }
      ]
    },
    {
      "cell_type": "code",
      "metadata": {
        "id": "5cB4kqA4Y6j_"
      },
      "source": [
        "# serialize model to JSON\n",
        "model_json = model.to_json()\n",
        "with open(\"ML.json\", \"w\") as json_file: json_file.write(model_json)"
      ],
      "execution_count": null,
      "outputs": []
    },
    {
      "cell_type": "code",
      "metadata": {
        "colab": {
          "base_uri": "https://localhost:8080/"
        },
        "id": "mCe9CU-aZxqK",
        "outputId": "1167fd7d-23fd-435f-f219-de552b67566c"
      },
      "source": [
        "# serialize weights to HDF5\n",
        "model.save(\"model.h5\")\n",
        "print(\"Saved model to disk\")"
      ],
      "execution_count": null,
      "outputs": [
        {
          "output_type": "stream",
          "name": "stdout",
          "text": [
            "Saved model to disk\n"
          ]
        }
      ]
    },
    {
      "cell_type": "markdown",
      "source": [
        "MODEL 2"
      ],
      "metadata": {
        "id": "FIyJY751os_u"
      }
    },
    {
      "cell_type": "code",
      "metadata": {
        "id": "-MH91ydkoi_Z"
      },
      "source": [
        "# TULIS KODE ANDA DISINI\n",
        "import tensorflow as tf\n",
        "from tensorflow.keras.models import Sequential, load_model\n",
        "from tensorflow.keras.layers import Dense, Conv2D, MaxPool2D, Flatten, BatchNormalization, Dropout\n",
        "model2 = tf.keras.models.Sequential([\n",
        "    tf.keras.layers.Conv2D(16, (3, 3), activation='elu', input_shape=(64, 64, 3)),\n",
        "    tf.keras.layers.MaxPooling2D(2, 2),\n",
        "    tf.keras.layers.Dropout(0.2),\n",
        "    tf.keras.layers.BatchNormalization(),\n",
        "    tf.keras.layers.Conv2D(32, (3, 3), activation='elu'),\n",
        "    tf.keras.layers.MaxPooling2D(2, 2),\n",
        "    tf.keras.layers.Dropout(0.2),\n",
        "    tf.keras.layers.BatchNormalization(),\n",
        "    tf.keras.layers.Conv2D(64, (3, 3), activation='elu'),\n",
        "    tf.keras.layers.MaxPooling2D(2, 2),\n",
        "    tf.keras.layers.Dropout(0.2),\n",
        "    tf.keras.layers.BatchNormalization(),\n",
        "    tf.keras.layers.Conv2D(128, (3, 3), activation='elu'),\n",
        "    tf.keras.layers.MaxPooling2D(2, 2),\n",
        "    tf.keras.layers.Dropout(0.2),\n",
        "    tf.keras.layers.BatchNormalization(),\n",
        "    tf.keras.layers.Flatten(),\n",
        "    tf.keras.layers.Dense(64, activation='elu'),\n",
        "    tf.keras.layers.Dropout(0.2),\n",
        "    tf.keras.layers.BatchNormalization(),\n",
        "    tf.keras.layers.Dense(2, activation='sigmoid')\n",
        "])"
      ],
      "execution_count": null,
      "outputs": []
    },
    {
      "cell_type": "code",
      "metadata": {
        "colab": {
          "base_uri": "https://localhost:8080/"
        },
        "outputId": "0137d03a-11d5-4a1e-ffda-11cfd799265e",
        "id": "ykaI6jWqoi_a"
      },
      "source": [
        "# Print model summary\n",
        "print(model2.summary())"
      ],
      "execution_count": null,
      "outputs": [
        {
          "output_type": "stream",
          "name": "stdout",
          "text": [
            "Model: \"sequential\"\n",
            "_________________________________________________________________\n",
            " Layer (type)                Output Shape              Param #   \n",
            "=================================================================\n",
            " conv2d (Conv2D)             (None, 62, 62, 16)        448       \n",
            "                                                                 \n",
            " max_pooling2d (MaxPooling2D  (None, 31, 31, 16)       0         \n",
            " )                                                               \n",
            "                                                                 \n",
            " dropout (Dropout)           (None, 31, 31, 16)        0         \n",
            "                                                                 \n",
            " batch_normalization (BatchN  (None, 31, 31, 16)       64        \n",
            " ormalization)                                                   \n",
            "                                                                 \n",
            " conv2d_1 (Conv2D)           (None, 29, 29, 32)        4640      \n",
            "                                                                 \n",
            " max_pooling2d_1 (MaxPooling  (None, 14, 14, 32)       0         \n",
            " 2D)                                                             \n",
            "                                                                 \n",
            " dropout_1 (Dropout)         (None, 14, 14, 32)        0         \n",
            "                                                                 \n",
            " batch_normalization_1 (Batc  (None, 14, 14, 32)       128       \n",
            " hNormalization)                                                 \n",
            "                                                                 \n",
            " conv2d_2 (Conv2D)           (None, 12, 12, 64)        18496     \n",
            "                                                                 \n",
            " max_pooling2d_2 (MaxPooling  (None, 6, 6, 64)         0         \n",
            " 2D)                                                             \n",
            "                                                                 \n",
            " dropout_2 (Dropout)         (None, 6, 6, 64)          0         \n",
            "                                                                 \n",
            " batch_normalization_2 (Batc  (None, 6, 6, 64)         256       \n",
            " hNormalization)                                                 \n",
            "                                                                 \n",
            " conv2d_3 (Conv2D)           (None, 4, 4, 128)         73856     \n",
            "                                                                 \n",
            " max_pooling2d_3 (MaxPooling  (None, 2, 2, 128)        0         \n",
            " 2D)                                                             \n",
            "                                                                 \n",
            " dropout_3 (Dropout)         (None, 2, 2, 128)         0         \n",
            "                                                                 \n",
            " batch_normalization_3 (Batc  (None, 2, 2, 128)        512       \n",
            " hNormalization)                                                 \n",
            "                                                                 \n",
            " flatten (Flatten)           (None, 512)               0         \n",
            "                                                                 \n",
            " dense (Dense)               (None, 64)                32832     \n",
            "                                                                 \n",
            " dropout_4 (Dropout)         (None, 64)                0         \n",
            "                                                                 \n",
            " batch_normalization_4 (Batc  (None, 64)               256       \n",
            " hNormalization)                                                 \n",
            "                                                                 \n",
            " dense_1 (Dense)             (None, 2)                 130       \n",
            "                                                                 \n",
            "=================================================================\n",
            "Total params: 131,618\n",
            "Trainable params: 131,010\n",
            "Non-trainable params: 608\n",
            "_________________________________________________________________\n",
            "None\n"
          ]
        }
      ]
    },
    {
      "cell_type": "code",
      "metadata": {
        "colab": {
          "base_uri": "https://localhost:8080/"
        },
        "outputId": "58cfdb96-5c0e-4a37-f3d6-42ef261f2108",
        "id": "fUc2natjoi_b"
      },
      "source": [
        "# Compile model\n",
        "from tensorflow.keras.optimizers import SGD\n",
        "\n",
        "model2.compile(optimizer=SGD(lr=0.001), \n",
        "              loss='categorical_crossentropy', \n",
        "              metrics=['accuracy'])"
      ],
      "execution_count": null,
      "outputs": [
        {
          "output_type": "stream",
          "name": "stderr",
          "text": [
            "/usr/local/lib/python3.7/dist-packages/keras/optimizer_v2/gradient_descent.py:102: UserWarning: The `lr` argument is deprecated, use `learning_rate` instead.\n",
            "  super(SGD, self).__init__(name, **kwargs)\n"
          ]
        }
      ]
    },
    {
      "cell_type": "code",
      "metadata": {
        "colab": {
          "base_uri": "https://localhost:8080/"
        },
        "outputId": "4221e864-2970-4d83-a2a7-87b9190816b7",
        "id": "BYsabkbhoi_c"
      },
      "source": [
        "history2 = model2.fit(train_images,\n",
        "                   epochs = 100,\n",
        "                   validation_data = val_images,\n",
        "                   callbacks=[tf.keras.callbacks.ReduceLROnPlateau(\n",
        "                       monitor='val_loss',\n",
        "                       factor=0.5,\n",
        "                       patience=40,\n",
        "                       verbose = 1,\n",
        "                       mode= 'auto',\n",
        "                       cooldown = 1\n",
        "                   )])"
      ],
      "execution_count": null,
      "outputs": [
        {
          "output_type": "stream",
          "name": "stdout",
          "text": [
            "Epoch 1/100\n",
            "129/129 [==============================] - 76s 506ms/step - loss: 0.8744 - accuracy: 0.5491 - val_loss: 0.8320 - val_accuracy: 0.2580 - lr: 0.0010\n",
            "Epoch 2/100\n",
            "129/129 [==============================] - 65s 501ms/step - loss: 0.7029 - accuracy: 0.6503 - val_loss: 0.5115 - val_accuracy: 0.7420 - lr: 0.0010\n",
            "Epoch 3/100\n",
            "129/129 [==============================] - 66s 511ms/step - loss: 0.6346 - accuracy: 0.6921 - val_loss: 0.4862 - val_accuracy: 0.7420 - lr: 0.0010\n",
            "Epoch 4/100\n",
            "129/129 [==============================] - 66s 513ms/step - loss: 0.5901 - accuracy: 0.7188 - val_loss: 0.3578 - val_accuracy: 0.8121 - lr: 0.0010\n",
            "Epoch 5/100\n",
            "129/129 [==============================] - 68s 529ms/step - loss: 0.5390 - accuracy: 0.7539 - val_loss: 0.3576 - val_accuracy: 0.8217 - lr: 0.0010\n",
            "Epoch 6/100\n",
            "129/129 [==============================] - 66s 511ms/step - loss: 0.5210 - accuracy: 0.7646 - val_loss: 0.4594 - val_accuracy: 0.7962 - lr: 0.0010\n",
            "Epoch 7/100\n",
            "129/129 [==============================] - 65s 505ms/step - loss: 0.5105 - accuracy: 0.7719 - val_loss: 1.6562 - val_accuracy: 0.3790 - lr: 0.0010\n",
            "Epoch 8/100\n",
            "129/129 [==============================] - 65s 505ms/step - loss: 0.4876 - accuracy: 0.7755 - val_loss: 0.3633 - val_accuracy: 0.8185 - lr: 0.0010\n",
            "Epoch 9/100\n",
            "129/129 [==============================] - 66s 509ms/step - loss: 0.4769 - accuracy: 0.7906 - val_loss: 0.4636 - val_accuracy: 0.8248 - lr: 0.0010\n",
            "Epoch 10/100\n",
            "129/129 [==============================] - 66s 509ms/step - loss: 0.4525 - accuracy: 0.7967 - val_loss: 0.6152 - val_accuracy: 0.7707 - lr: 0.0010\n",
            "Epoch 11/100\n",
            "129/129 [==============================] - 65s 502ms/step - loss: 0.4578 - accuracy: 0.7964 - val_loss: 0.5664 - val_accuracy: 0.7866 - lr: 0.0010\n",
            "Epoch 12/100\n",
            "129/129 [==============================] - 68s 525ms/step - loss: 0.4332 - accuracy: 0.8105 - val_loss: 0.6142 - val_accuracy: 0.7803 - lr: 0.0010\n",
            "Epoch 13/100\n",
            "129/129 [==============================] - 66s 510ms/step - loss: 0.4265 - accuracy: 0.8044 - val_loss: 0.5276 - val_accuracy: 0.8057 - lr: 0.0010\n",
            "Epoch 14/100\n",
            "129/129 [==============================] - 67s 518ms/step - loss: 0.4179 - accuracy: 0.8047 - val_loss: 1.1698 - val_accuracy: 0.6051 - lr: 0.0010\n",
            "Epoch 15/100\n",
            "129/129 [==============================] - 66s 511ms/step - loss: 0.4154 - accuracy: 0.8105 - val_loss: 0.6986 - val_accuracy: 0.7484 - lr: 0.0010\n",
            "Epoch 16/100\n",
            "129/129 [==============================] - 65s 505ms/step - loss: 0.4077 - accuracy: 0.8185 - val_loss: 0.5129 - val_accuracy: 0.8089 - lr: 0.0010\n",
            "Epoch 17/100\n",
            "129/129 [==============================] - 65s 507ms/step - loss: 0.4001 - accuracy: 0.8265 - val_loss: 0.4529 - val_accuracy: 0.8344 - lr: 0.0010\n",
            "Epoch 18/100\n",
            "129/129 [==============================] - 65s 509ms/step - loss: 0.4015 - accuracy: 0.8197 - val_loss: 0.7723 - val_accuracy: 0.7070 - lr: 0.0010\n",
            "Epoch 19/100\n",
            "129/129 [==============================] - 67s 520ms/step - loss: 0.3852 - accuracy: 0.8331 - val_loss: 1.0394 - val_accuracy: 0.6306 - lr: 0.0010\n",
            "Epoch 20/100\n",
            "129/129 [==============================] - 66s 510ms/step - loss: 0.3826 - accuracy: 0.8328 - val_loss: 1.6623 - val_accuracy: 0.4204 - lr: 0.0010\n",
            "Epoch 21/100\n",
            "129/129 [==============================] - 65s 502ms/step - loss: 0.3852 - accuracy: 0.8294 - val_loss: 0.3598 - val_accuracy: 0.8248 - lr: 0.0010\n",
            "Epoch 22/100\n",
            "129/129 [==============================] - 68s 528ms/step - loss: 0.3896 - accuracy: 0.8265 - val_loss: 0.7349 - val_accuracy: 0.7293 - lr: 0.0010\n",
            "Epoch 23/100\n",
            "129/129 [==============================] - 67s 519ms/step - loss: 0.3789 - accuracy: 0.8275 - val_loss: 0.4094 - val_accuracy: 0.8344 - lr: 0.0010\n",
            "Epoch 24/100\n",
            "129/129 [==============================] - 66s 509ms/step - loss: 0.3653 - accuracy: 0.8357 - val_loss: 0.8555 - val_accuracy: 0.6752 - lr: 0.0010\n",
            "Epoch 25/100\n",
            "129/129 [==============================] - 67s 515ms/step - loss: 0.3796 - accuracy: 0.8316 - val_loss: 0.8309 - val_accuracy: 0.6943 - lr: 0.0010\n",
            "Epoch 26/100\n",
            "129/129 [==============================] - 67s 518ms/step - loss: 0.3814 - accuracy: 0.8299 - val_loss: 0.7559 - val_accuracy: 0.7102 - lr: 0.0010\n",
            "Epoch 27/100\n",
            "129/129 [==============================] - 65s 502ms/step - loss: 0.3624 - accuracy: 0.8364 - val_loss: 0.5801 - val_accuracy: 0.7962 - lr: 0.0010\n",
            "Epoch 28/100\n",
            "129/129 [==============================] - 66s 509ms/step - loss: 0.3590 - accuracy: 0.8462 - val_loss: 0.3370 - val_accuracy: 0.8376 - lr: 0.0010\n",
            "Epoch 29/100\n",
            "129/129 [==============================] - 67s 519ms/step - loss: 0.3745 - accuracy: 0.8333 - val_loss: 0.9727 - val_accuracy: 0.6529 - lr: 0.0010\n",
            "Epoch 30/100\n",
            "129/129 [==============================] - 68s 526ms/step - loss: 0.3570 - accuracy: 0.8403 - val_loss: 0.5579 - val_accuracy: 0.8025 - lr: 0.0010\n",
            "Epoch 31/100\n",
            "129/129 [==============================] - 68s 531ms/step - loss: 0.3659 - accuracy: 0.8391 - val_loss: 0.6648 - val_accuracy: 0.7548 - lr: 0.0010\n",
            "Epoch 32/100\n",
            "129/129 [==============================] - 68s 530ms/step - loss: 0.3666 - accuracy: 0.8321 - val_loss: 0.8604 - val_accuracy: 0.6783 - lr: 0.0010\n",
            "Epoch 33/100\n",
            "129/129 [==============================] - 68s 524ms/step - loss: 0.3674 - accuracy: 0.8352 - val_loss: 0.4408 - val_accuracy: 0.8376 - lr: 0.0010\n",
            "Epoch 34/100\n",
            "129/129 [==============================] - 66s 512ms/step - loss: 0.3481 - accuracy: 0.8430 - val_loss: 1.2667 - val_accuracy: 0.5478 - lr: 0.0010\n",
            "Epoch 35/100\n",
            "129/129 [==============================] - 65s 508ms/step - loss: 0.3508 - accuracy: 0.8454 - val_loss: 0.7165 - val_accuracy: 0.7293 - lr: 0.0010\n",
            "Epoch 36/100\n",
            "129/129 [==============================] - 68s 523ms/step - loss: 0.3540 - accuracy: 0.8377 - val_loss: 0.7055 - val_accuracy: 0.7357 - lr: 0.0010\n",
            "Epoch 37/100\n",
            "129/129 [==============================] - 68s 527ms/step - loss: 0.3563 - accuracy: 0.8445 - val_loss: 0.5004 - val_accuracy: 0.8153 - lr: 0.0010\n",
            "Epoch 38/100\n",
            "129/129 [==============================] - 65s 503ms/step - loss: 0.3452 - accuracy: 0.8440 - val_loss: 1.2464 - val_accuracy: 0.5701 - lr: 0.0010\n",
            "Epoch 39/100\n",
            "129/129 [==============================] - 65s 506ms/step - loss: 0.3566 - accuracy: 0.8394 - val_loss: 1.7348 - val_accuracy: 0.3599 - lr: 0.0010\n",
            "Epoch 40/100\n",
            "129/129 [==============================] - 65s 503ms/step - loss: 0.3449 - accuracy: 0.8447 - val_loss: 0.4336 - val_accuracy: 0.8312 - lr: 0.0010\n",
            "Epoch 41/100\n",
            "129/129 [==============================] - 64s 499ms/step - loss: 0.3429 - accuracy: 0.8471 - val_loss: 1.5675 - val_accuracy: 0.4459 - lr: 0.0010\n",
            "Epoch 42/100\n",
            "129/129 [==============================] - 65s 507ms/step - loss: 0.3378 - accuracy: 0.8445 - val_loss: 0.6294 - val_accuracy: 0.7739 - lr: 0.0010\n",
            "Epoch 43/100\n",
            "129/129 [==============================] - 68s 524ms/step - loss: 0.3337 - accuracy: 0.8551 - val_loss: 0.9375 - val_accuracy: 0.6529 - lr: 0.0010\n",
            "Epoch 44/100\n",
            "129/129 [==============================] - 70s 543ms/step - loss: 0.3420 - accuracy: 0.8430 - val_loss: 0.9721 - val_accuracy: 0.6529 - lr: 0.0010\n",
            "Epoch 45/100\n",
            "129/129 [==============================] - 68s 530ms/step - loss: 0.3398 - accuracy: 0.8491 - val_loss: 1.2128 - val_accuracy: 0.5924 - lr: 0.0010\n",
            "Epoch 46/100\n",
            "129/129 [==============================] - 65s 505ms/step - loss: 0.3419 - accuracy: 0.8493 - val_loss: 1.6027 - val_accuracy: 0.4204 - lr: 0.0010\n",
            "Epoch 47/100\n",
            "129/129 [==============================] - 65s 507ms/step - loss: 0.3364 - accuracy: 0.8462 - val_loss: 0.9556 - val_accuracy: 0.6465 - lr: 0.0010\n",
            "Epoch 48/100\n",
            "129/129 [==============================] - 64s 493ms/step - loss: 0.3229 - accuracy: 0.8546 - val_loss: 1.6100 - val_accuracy: 0.4490 - lr: 0.0010\n",
            "Epoch 49/100\n",
            "129/129 [==============================] - 64s 495ms/step - loss: 0.3362 - accuracy: 0.8459 - val_loss: 0.9129 - val_accuracy: 0.6624 - lr: 0.0010\n",
            "Epoch 50/100\n",
            "129/129 [==============================] - 64s 499ms/step - loss: 0.3374 - accuracy: 0.8430 - val_loss: 1.9016 - val_accuracy: 0.3408 - lr: 0.0010\n",
            "Epoch 51/100\n",
            "129/129 [==============================] - 66s 508ms/step - loss: 0.3370 - accuracy: 0.8432 - val_loss: 0.9465 - val_accuracy: 0.6529 - lr: 0.0010\n",
            "Epoch 52/100\n",
            "129/129 [==============================] - 65s 505ms/step - loss: 0.3380 - accuracy: 0.8508 - val_loss: 1.0405 - val_accuracy: 0.6306 - lr: 0.0010\n",
            "Epoch 53/100\n",
            "129/129 [==============================] - 65s 505ms/step - loss: 0.3372 - accuracy: 0.8488 - val_loss: 2.0409 - val_accuracy: 0.3089 - lr: 0.0010\n",
            "Epoch 54/100\n",
            "129/129 [==============================] - 65s 506ms/step - loss: 0.3276 - accuracy: 0.8529 - val_loss: 0.5593 - val_accuracy: 0.7962 - lr: 0.0010\n",
            "Epoch 55/100\n",
            "129/129 [==============================] - 65s 506ms/step - loss: 0.3418 - accuracy: 0.8496 - val_loss: 1.6304 - val_accuracy: 0.4140 - lr: 0.0010\n",
            "Epoch 56/100\n",
            "129/129 [==============================] - 67s 515ms/step - loss: 0.3294 - accuracy: 0.8522 - val_loss: 1.9259 - val_accuracy: 0.3248 - lr: 0.0010\n",
            "Epoch 57/100\n",
            "129/129 [==============================] - 66s 510ms/step - loss: 0.3263 - accuracy: 0.8563 - val_loss: 1.9158 - val_accuracy: 0.3248 - lr: 0.0010\n",
            "Epoch 58/100\n",
            "129/129 [==============================] - 64s 498ms/step - loss: 0.3234 - accuracy: 0.8544 - val_loss: 0.9824 - val_accuracy: 0.6497 - lr: 0.0010\n",
            "Epoch 59/100\n",
            "129/129 [==============================] - 64s 494ms/step - loss: 0.3333 - accuracy: 0.8539 - val_loss: 1.4985 - val_accuracy: 0.4777 - lr: 0.0010\n",
            "Epoch 60/100\n",
            "129/129 [==============================] - 64s 501ms/step - loss: 0.3286 - accuracy: 0.8534 - val_loss: 1.9273 - val_accuracy: 0.3185 - lr: 0.0010\n",
            "Epoch 61/100\n",
            "129/129 [==============================] - 66s 510ms/step - loss: 0.3233 - accuracy: 0.8590 - val_loss: 0.4162 - val_accuracy: 0.8376 - lr: 0.0010\n",
            "Epoch 62/100\n",
            "129/129 [==============================] - 65s 507ms/step - loss: 0.3179 - accuracy: 0.8580 - val_loss: 0.8797 - val_accuracy: 0.6720 - lr: 0.0010\n",
            "Epoch 63/100\n",
            "129/129 [==============================] - 65s 504ms/step - loss: 0.3291 - accuracy: 0.8534 - val_loss: 0.7244 - val_accuracy: 0.7229 - lr: 0.0010\n",
            "Epoch 64/100\n",
            "129/129 [==============================] - 65s 504ms/step - loss: 0.3360 - accuracy: 0.8462 - val_loss: 1.3131 - val_accuracy: 0.5478 - lr: 0.0010\n",
            "Epoch 65/100\n",
            "129/129 [==============================] - 65s 507ms/step - loss: 0.3238 - accuracy: 0.8571 - val_loss: 1.3995 - val_accuracy: 0.4968 - lr: 0.0010\n",
            "Epoch 66/100\n",
            "129/129 [==============================] - 64s 498ms/step - loss: 0.3284 - accuracy: 0.8491 - val_loss: 1.9994 - val_accuracy: 0.3185 - lr: 0.0010\n",
            "Epoch 67/100\n",
            "129/129 [==============================] - 64s 492ms/step - loss: 0.3339 - accuracy: 0.8466 - val_loss: 2.6406 - val_accuracy: 0.2643 - lr: 0.0010\n",
            "Epoch 68/100\n",
            "129/129 [==============================] - ETA: 0s - loss: 0.3242 - accuracy: 0.8546\n",
            "Epoch 00068: ReduceLROnPlateau reducing learning rate to 0.0005000000237487257.\n",
            "129/129 [==============================] - 64s 496ms/step - loss: 0.3242 - accuracy: 0.8546 - val_loss: 1.5403 - val_accuracy: 0.4490 - lr: 0.0010\n",
            "Epoch 69/100\n",
            "129/129 [==============================] - 64s 499ms/step - loss: 0.3077 - accuracy: 0.8648 - val_loss: 1.3856 - val_accuracy: 0.5032 - lr: 5.0000e-04\n",
            "Epoch 70/100\n",
            "129/129 [==============================] - 67s 516ms/step - loss: 0.3183 - accuracy: 0.8622 - val_loss: 1.2230 - val_accuracy: 0.5669 - lr: 5.0000e-04\n",
            "Epoch 71/100\n",
            "129/129 [==============================] - 64s 500ms/step - loss: 0.3225 - accuracy: 0.8522 - val_loss: 1.5183 - val_accuracy: 0.4713 - lr: 5.0000e-04\n",
            "Epoch 72/100\n",
            "129/129 [==============================] - 64s 498ms/step - loss: 0.3338 - accuracy: 0.8488 - val_loss: 1.1544 - val_accuracy: 0.5732 - lr: 5.0000e-04\n",
            "Epoch 73/100\n",
            "129/129 [==============================] - 64s 494ms/step - loss: 0.3230 - accuracy: 0.8534 - val_loss: 1.5669 - val_accuracy: 0.4363 - lr: 5.0000e-04\n",
            "Epoch 74/100\n",
            "129/129 [==============================] - 64s 493ms/step - loss: 0.3156 - accuracy: 0.8556 - val_loss: 0.6518 - val_accuracy: 0.7516 - lr: 5.0000e-04\n",
            "Epoch 75/100\n",
            "129/129 [==============================] - 65s 504ms/step - loss: 0.3248 - accuracy: 0.8561 - val_loss: 0.7788 - val_accuracy: 0.6943 - lr: 5.0000e-04\n",
            "Epoch 76/100\n",
            "129/129 [==============================] - 65s 505ms/step - loss: 0.3215 - accuracy: 0.8522 - val_loss: 1.9657 - val_accuracy: 0.3121 - lr: 5.0000e-04\n",
            "Epoch 77/100\n",
            "129/129 [==============================] - 65s 501ms/step - loss: 0.3235 - accuracy: 0.8517 - val_loss: 1.3331 - val_accuracy: 0.5096 - lr: 5.0000e-04\n",
            "Epoch 78/100\n",
            "129/129 [==============================] - 64s 500ms/step - loss: 0.3202 - accuracy: 0.8546 - val_loss: 0.7515 - val_accuracy: 0.7070 - lr: 5.0000e-04\n",
            "Epoch 79/100\n",
            "129/129 [==============================] - 65s 507ms/step - loss: 0.3199 - accuracy: 0.8544 - val_loss: 1.6946 - val_accuracy: 0.3917 - lr: 5.0000e-04\n",
            "Epoch 80/100\n",
            "129/129 [==============================] - 65s 503ms/step - loss: 0.3162 - accuracy: 0.8607 - val_loss: 0.7821 - val_accuracy: 0.6911 - lr: 5.0000e-04\n",
            "Epoch 81/100\n",
            "129/129 [==============================] - 64s 500ms/step - loss: 0.3142 - accuracy: 0.8622 - val_loss: 0.5492 - val_accuracy: 0.7994 - lr: 5.0000e-04\n",
            "Epoch 82/100\n",
            "129/129 [==============================] - 64s 495ms/step - loss: 0.3216 - accuracy: 0.8568 - val_loss: 0.4912 - val_accuracy: 0.8121 - lr: 5.0000e-04\n",
            "Epoch 83/100\n",
            "129/129 [==============================] - 64s 497ms/step - loss: 0.3258 - accuracy: 0.8561 - val_loss: 0.7672 - val_accuracy: 0.6911 - lr: 5.0000e-04\n",
            "Epoch 84/100\n",
            "129/129 [==============================] - 64s 500ms/step - loss: 0.3086 - accuracy: 0.8631 - val_loss: 1.0802 - val_accuracy: 0.6083 - lr: 5.0000e-04\n",
            "Epoch 85/100\n",
            "129/129 [==============================] - 65s 504ms/step - loss: 0.3169 - accuracy: 0.8571 - val_loss: 0.9372 - val_accuracy: 0.6497 - lr: 5.0000e-04\n",
            "Epoch 86/100\n",
            "129/129 [==============================] - 65s 504ms/step - loss: 0.3180 - accuracy: 0.8517 - val_loss: 1.1032 - val_accuracy: 0.6051 - lr: 5.0000e-04\n",
            "Epoch 87/100\n",
            "129/129 [==============================] - 64s 498ms/step - loss: 0.3203 - accuracy: 0.8559 - val_loss: 1.4760 - val_accuracy: 0.4650 - lr: 5.0000e-04\n",
            "Epoch 88/100\n",
            "129/129 [==============================] - 65s 506ms/step - loss: 0.3087 - accuracy: 0.8665 - val_loss: 0.8614 - val_accuracy: 0.6656 - lr: 5.0000e-04\n",
            "Epoch 89/100\n",
            "129/129 [==============================] - 64s 499ms/step - loss: 0.3241 - accuracy: 0.8445 - val_loss: 0.4025 - val_accuracy: 0.8439 - lr: 5.0000e-04\n",
            "Epoch 90/100\n",
            "129/129 [==============================] - 64s 497ms/step - loss: 0.3111 - accuracy: 0.8580 - val_loss: 1.3552 - val_accuracy: 0.4904 - lr: 5.0000e-04\n",
            "Epoch 91/100\n",
            "129/129 [==============================] - 64s 493ms/step - loss: 0.3177 - accuracy: 0.8566 - val_loss: 1.5936 - val_accuracy: 0.4268 - lr: 5.0000e-04\n",
            "Epoch 92/100\n",
            "129/129 [==============================] - 63s 492ms/step - loss: 0.3152 - accuracy: 0.8580 - val_loss: 0.9331 - val_accuracy: 0.6529 - lr: 5.0000e-04\n",
            "Epoch 93/100\n",
            "129/129 [==============================] - 64s 499ms/step - loss: 0.3224 - accuracy: 0.8549 - val_loss: 1.8561 - val_accuracy: 0.3312 - lr: 5.0000e-04\n",
            "Epoch 94/100\n",
            "129/129 [==============================] - 65s 501ms/step - loss: 0.3169 - accuracy: 0.8515 - val_loss: 0.9674 - val_accuracy: 0.6433 - lr: 5.0000e-04\n",
            "Epoch 95/100\n",
            "129/129 [==============================] - 64s 496ms/step - loss: 0.3192 - accuracy: 0.8525 - val_loss: 1.5761 - val_accuracy: 0.4299 - lr: 5.0000e-04\n",
            "Epoch 96/100\n",
            "129/129 [==============================] - 64s 497ms/step - loss: 0.3179 - accuracy: 0.8546 - val_loss: 0.7953 - val_accuracy: 0.6879 - lr: 5.0000e-04\n",
            "Epoch 97/100\n",
            "129/129 [==============================] - 64s 499ms/step - loss: 0.3112 - accuracy: 0.8627 - val_loss: 0.5295 - val_accuracy: 0.8057 - lr: 5.0000e-04\n",
            "Epoch 98/100\n",
            "129/129 [==============================] - 65s 506ms/step - loss: 0.3221 - accuracy: 0.8539 - val_loss: 1.3478 - val_accuracy: 0.5064 - lr: 5.0000e-04\n",
            "Epoch 99/100\n",
            "129/129 [==============================] - 65s 503ms/step - loss: 0.3145 - accuracy: 0.8580 - val_loss: 1.3902 - val_accuracy: 0.4904 - lr: 5.0000e-04\n",
            "Epoch 100/100\n",
            "129/129 [==============================] - 65s 500ms/step - loss: 0.3048 - accuracy: 0.8602 - val_loss: 1.0119 - val_accuracy: 0.6306 - lr: 5.0000e-04\n"
          ]
        }
      ]
    },
    {
      "cell_type": "code",
      "metadata": {
        "id": "qg1kqEImoi_d"
      },
      "source": [
        "import matplotlib.pyplot as plt\n",
        "def eval_plot(history2):\n",
        "\n",
        "  plt.figure(figsize=(14, 5))\n",
        "\n",
        "  # Accuracy plot\n",
        "  plt.subplot(1, 2, 1)\n",
        "  acc = history2.history['accuracy']\n",
        "  val_acc = history2.history['val_accuracy']\n",
        "  epochs = range(len(acc))\n",
        "  acc_plot, = plt.plot(epochs, acc, 'r')\n",
        "  val_acc_plot, = plt.plot(epochs, val_acc, 'b')\n",
        "  plt.title('Training and Validation Accuracy')\n",
        "  plt.legend([acc_plot, val_acc_plot], ['Training Accuracy', 'Validation Accuracy'])\n",
        "\n",
        "  # Loss plot\n",
        "  plt.subplot(1, 2, 2)\n",
        "  loss = history2.history['loss']\n",
        "  val_loss = history2.history['val_loss']\n",
        "  epochs = range(len(loss))\n",
        "  loss_plot, = plt.plot(epochs, loss, 'r')\n",
        "  val_loss_plot, = plt.plot(epochs, val_loss, 'b')\n",
        "  plt.title('Training and Validation Loss')\n",
        "  plt.legend([loss_plot, val_loss_plot], ['Training Loss', 'Validation Loss'])"
      ],
      "execution_count": null,
      "outputs": []
    },
    {
      "cell_type": "code",
      "metadata": {
        "colab": {
          "base_uri": "https://localhost:8080/",
          "height": 262
        },
        "outputId": "a279e7a8-1424-4525-af0e-52e5182b992d",
        "id": "s2m3pXzBoi_d"
      },
      "source": [
        "eval_plot(history2)"
      ],
      "execution_count": null,
      "outputs": [
        {
          "output_type": "display_data",
          "data": {
            "image/png": "[encoded data removed]",
            "text/plain": [
              "<Figure size 1008x360 with 2 Axes>"
            ]
          },
          "metadata": {
            "needs_background": "light"
          }
        }
      ]
    },
    {
      "cell_type": "code",
      "metadata": {
        "id": "GEa0663Coi_e"
      },
      "source": [
        "from sklearn.metrics import classification_report, confusion_matrix\n",
        "import seaborn as sns\n",
        "\n",
        "def evaluate(model2):\n",
        "  valid_generator = train_generator.flow_from_directory(\n",
        "      TRAIN_DIR, \n",
        "      target_size=(64,64), \n",
        "      batch_size=32, \n",
        "      class_mode='categorical',\n",
        "      shuffle = False)\n",
        "\n",
        "  batch_size = 32\n",
        "  num_of_test_samples = len(valid_generator.filenames)\n",
        "\n",
        "  Y_pred = model2.predict_generator(valid_generator, num_of_test_samples // batch_size+1)\n",
        "  y_pred = np.argmax(Y_pred, axis=1)\n",
        "\n",
        "  print('\\nConfusion Matrix\\n')\n",
        "  cm = confusion_matrix(valid_generator.classes, y_pred)\n",
        "  plt.figure(figsize=(8, 8))\n",
        "  sns.heatmap(cm, annot=True, fmt='g', vmin=0, cmap='Blues', cbar=False)\n",
        "  plt.xticks(ticks=[0.5, 1.5], labels=['NORMAL', 'PNEUMONIA'])\n",
        "  plt.yticks(ticks=[0.5, 1.5], labels=['NORMAL', 'PNEUMONIA'])\n",
        "  plt.xlabel(\"Predicted\")\n",
        "  plt.ylabel(\"Actual\")\n",
        "  plt.title(\"Confusion Matrix\")\n",
        "  plt.show()\n",
        "\n",
        "  print('\\n\\nClassification Report\\n')\n",
        "  target_names = ['NORMAL', 'PNEUMONIA']\n",
        "  print(classification_report(valid_generator.classes, y_pred, target_names=target_names))\n",
        "\n",
        "  tn, fp, fn, tp = cm.ravel()\n",
        "\n",
        "  precision = tp/(tp+fp)\n",
        "  recall = tp/(tp+fn)\n",
        "  f = 2*((precision*recall)/(precision+recall))\n",
        "\n",
        "  print(\"Recall of the model2 is {:.2f}\".format(recall))\n",
        "  print(\"Precision of the model2 is {:.2f}\".format(precision))\n",
        "  print(\"F-1 Score of the model2 is {:.2f}\".format(f)) "
      ],
      "execution_count": null,
      "outputs": []
    },
    {
      "cell_type": "code",
      "metadata": {
        "colab": {
          "base_uri": "https://localhost:8080/",
          "height": 915
        },
        "outputId": "4ee3b6e6-00bd-4a31-cadc-09a51e7d5ea2",
        "id": "e7JFA4ryoi_e"
      },
      "source": [
        "evaluate(model2)"
      ],
      "execution_count": null,
      "outputs": [
        {
          "output_type": "stream",
          "name": "stdout",
          "text": [
            "Found 4121 images belonging to 2 classes.\n"
          ]
        },
        {
          "output_type": "stream",
          "name": "stderr",
          "text": [
            "/usr/local/lib/python3.7/dist-packages/ipykernel_launcher.py:15: UserWarning: `Model.predict_generator` is deprecated and will be removed in a future version. Please use `Model.predict`, which supports generators.\n",
            "  from ipykernel import kernelapp as app\n"
          ]
        },
        {
          "output_type": "stream",
          "name": "stdout",
          "text": [
            "\n",
            "Confusion Matrix\n",
            "\n"
          ]
        },
        {
          "output_type": "display_data",
          "data": {
            "image/png": "[encoded data removed]",
            "text/plain": [
              "<Figure size 576x576 with 1 Axes>"
            ]
          },
          "metadata": {
            "needs_background": "light"
          }
        },
        {
          "output_type": "stream",
          "name": "stdout",
          "text": [
            "\n",
            "\n",
            "Classification Report\n",
            "\n",
            "              precision    recall  f1-score   support\n",
            "\n",
            "      NORMAL       0.69      0.85      0.76      1059\n",
            "   PNEUMONIA       0.94      0.87      0.90      3062\n",
            "\n",
            "    accuracy                           0.86      4121\n",
            "   macro avg       0.82      0.86      0.83      4121\n",
            "weighted avg       0.88      0.86      0.87      4121\n",
            "\n",
            "Recall of the model2 is 0.87\n",
            "Precision of the model2 is 0.94\n",
            "F-1 Score of the model2 is 0.90\n"
          ]
        }
      ]
    },
    {
      "cell_type": "code",
      "metadata": {
        "id": "inu3U-3Hoi_f"
      },
      "source": [
        "# serialize model to JSON\n",
        "model_json = model2.to_json()\n",
        "with open(\"ML.json\", \"w\") as json_file: json_file.write(model_json)"
      ],
      "execution_count": null,
      "outputs": []
    },
    {
      "cell_type": "code",
      "metadata": {
        "colab": {
          "base_uri": "https://localhost:8080/"
        },
        "outputId": "b6e8d19b-4c25-407a-97b5-4bfd5328a7ec",
        "id": "il-OTGLJoi_f"
      },
      "source": [
        "# serialize weights to HDF5\n",
        "model2.save(\"model2.h5\")\n",
        "print(\"Saved model to disk\")"
      ],
      "execution_count": null,
      "outputs": [
        {
          "output_type": "stream",
          "name": "stdout",
          "text": [
            "Saved model to disk\n"
          ]
        }
      ]
    },
    {
      "cell_type": "markdown",
      "source": [
        "MODEL 3"
      ],
      "metadata": {
        "id": "IlegcVwZpNnx"
      }
    },
    {
      "cell_type": "code",
      "metadata": {
        "id": "RHI-lM8xpHoW"
      },
      "source": [
        "# TULIS KODE ANDA DISINI\n",
        "import tensorflow as tf\n",
        "from tensorflow.keras.models import Sequential, load_model\n",
        "from tensorflow.keras.layers import Dense, Conv2D, MaxPool2D, Flatten, BatchNormalization, Dropout\n",
        "model3 = tf.keras.models.Sequential([\n",
        "    tf.keras.layers.Conv2D(16, (3, 3), activation='relu', input_shape=(64, 64, 3)),\n",
        "    tf.keras.layers.MaxPooling2D(2, 2),\n",
        "    tf.keras.layers.Dropout(0.2),\n",
        "    tf.keras.layers.BatchNormalization(),\n",
        "    tf.keras.layers.Conv2D(16, (3, 3), activation='relu'),\n",
        "    tf.keras.layers.MaxPooling2D(2, 2),\n",
        "    tf.keras.layers.Dropout(0.2),\n",
        "    tf.keras.layers.BatchNormalization(),\n",
        "    tf.keras.layers.Conv2D(32, (3, 3), activation='relu'),\n",
        "    tf.keras.layers.MaxPooling2D(2, 2),\n",
        "    tf.keras.layers.Dropout(0.2),\n",
        "    tf.keras.layers.BatchNormalization(),\n",
        "    tf.keras.layers.Conv2D(128, (3, 3), activation='relu'),\n",
        "    tf.keras.layers.MaxPooling2D(2, 2),\n",
        "    tf.keras.layers.Dropout(0.2),\n",
        "    tf.keras.layers.BatchNormalization(),\n",
        "    tf.keras.layers.Flatten(),\n",
        "    tf.keras.layers.Dense(64, activation='relu'),\n",
        "    tf.keras.layers.Dropout(0.2),\n",
        "    tf.keras.layers.BatchNormalization(),\n",
        "    tf.keras.layers.Dense(2, activation='softmax')\n",
        "])"
      ],
      "execution_count": null,
      "outputs": []
    },
    {
      "cell_type": "code",
      "metadata": {
        "colab": {
          "base_uri": "https://localhost:8080/"
        },
        "outputId": "27b60ab6-eeec-4f3a-dd80-4b2d41694e8b",
        "id": "Tw4RYYAZpHoX"
      },
      "source": [
        "# Print model summary\n",
        "print(model3.summary())"
      ],
      "execution_count": null,
      "outputs": [
        {
          "output_type": "stream",
          "name": "stdout",
          "text": [
            "Model: \"sequential\"\n",
            "_________________________________________________________________\n",
            " Layer (type)                Output Shape              Param #   \n",
            "=================================================================\n",
            " conv2d (Conv2D)             (None, 62, 62, 16)        448       \n",
            "                                                                 \n",
            " max_pooling2d (MaxPooling2D  (None, 31, 31, 16)       0         \n",
            " )                                                               \n",
            "                                                                 \n",
            " dropout (Dropout)           (None, 31, 31, 16)        0         \n",
            "                                                                 \n",
            " batch_normalization (BatchN  (None, 31, 31, 16)       64        \n",
            " ormalization)                                                   \n",
            "                                                                 \n",
            " conv2d_1 (Conv2D)           (None, 29, 29, 16)        2320      \n",
            "                                                                 \n",
            " max_pooling2d_1 (MaxPooling  (None, 14, 14, 16)       0         \n",
            " 2D)                                                             \n",
            "                                                                 \n",
            " dropout_1 (Dropout)         (None, 14, 14, 16)        0         \n",
            "                                                                 \n",
            " batch_normalization_1 (Batc  (None, 14, 14, 16)       64        \n",
            " hNormalization)                                                 \n",
            "                                                                 \n",
            " conv2d_2 (Conv2D)           (None, 12, 12, 32)        4640      \n",
            "                                                                 \n",
            " max_pooling2d_2 (MaxPooling  (None, 6, 6, 32)         0         \n",
            " 2D)                                                             \n",
            "                                                                 \n",
            " dropout_2 (Dropout)         (None, 6, 6, 32)          0         \n",
            "                                                                 \n",
            " batch_normalization_2 (Batc  (None, 6, 6, 32)         128       \n",
            " hNormalization)                                                 \n",
            "                                                                 \n",
            " conv2d_3 (Conv2D)           (None, 4, 4, 128)         36992     \n",
            "                                                                 \n",
            " max_pooling2d_3 (MaxPooling  (None, 2, 2, 128)        0         \n",
            " 2D)                                                             \n",
            "                                                                 \n",
            " dropout_3 (Dropout)         (None, 2, 2, 128)         0         \n",
            "                                                                 \n",
            " batch_normalization_3 (Batc  (None, 2, 2, 128)        512       \n",
            " hNormalization)                                                 \n",
            "                                                                 \n",
            " flatten (Flatten)           (None, 512)               0         \n",
            "                                                                 \n",
            " dense (Dense)               (None, 64)                32832     \n",
            "                                                                 \n",
            " dropout_4 (Dropout)         (None, 64)                0         \n",
            "                                                                 \n",
            " batch_normalization_4 (Batc  (None, 64)               256       \n",
            " hNormalization)                                                 \n",
            "                                                                 \n",
            " dense_1 (Dense)             (None, 2)                 130       \n",
            "                                                                 \n",
            "=================================================================\n",
            "Total params: 78,386\n",
            "Trainable params: 77,874\n",
            "Non-trainable params: 512\n",
            "_________________________________________________________________\n",
            "None\n"
          ]
        }
      ]
    },
    {
      "cell_type": "code",
      "metadata": {
        "colab": {
          "base_uri": "https://localhost:8080/"
        },
        "outputId": "10cdfc62-5dd8-4f8c-a641-aadee6f40130",
        "id": "3i8MIYpepHoY"
      },
      "source": [
        "# Compile model\n",
        "from tensorflow.keras.optimizers import Adadelta\n",
        "\n",
        "model3.compile(optimizer=Adadelta(lr=0.01), \n",
        "              loss='categorical_crossentropy', \n",
        "              metrics=['accuracy'])"
      ],
      "execution_count": null,
      "outputs": [
        {
          "output_type": "stream",
          "name": "stderr",
          "text": [
            "/usr/local/lib/python3.7/dist-packages/keras/optimizer_v2/adadelta.py:74: UserWarning: The `lr` argument is deprecated, use `learning_rate` instead.\n",
            "  super(Adadelta, self).__init__(name, **kwargs)\n"
          ]
        }
      ]
    },
    {
      "cell_type": "code",
      "metadata": {
        "colab": {
          "base_uri": "https://localhost:8080/"
        },
        "outputId": "311f8069-33d4-4e58-dbbe-2c4701663b88",
        "id": "u55_KhjjpHoY"
      },
      "source": [
        "history3 = model3.fit(train_images,\n",
        "                   epochs = 100,\n",
        "                   validation_data = val_images,\n",
        "                   callbacks=[tf.keras.callbacks.ReduceLROnPlateau(\n",
        "                       monitor='val_loss',\n",
        "                       factor=0.5,\n",
        "                       patience=40,\n",
        "                       verbose = 1,\n",
        "                       mode= 'auto',\n",
        "                       cooldown = 1\n",
        "                   )])"
      ],
      "execution_count": null,
      "outputs": [
        {
          "output_type": "stream",
          "name": "stdout",
          "text": [
            "Epoch 1/100\n",
            "129/129 [==============================] - 90s 618ms/step - loss: 1.0259 - accuracy: 0.5309 - val_loss: 0.6269 - val_accuracy: 0.7420 - lr: 0.0100\n",
            "Epoch 2/100\n",
            "129/129 [==============================] - 78s 604ms/step - loss: 0.9650 - accuracy: 0.5484 - val_loss: 0.5831 - val_accuracy: 0.7420 - lr: 0.0100\n",
            "Epoch 3/100\n",
            "129/129 [==============================] - 82s 639ms/step - loss: 0.9472 - accuracy: 0.5625 - val_loss: 0.5765 - val_accuracy: 0.7420 - lr: 0.0100\n",
            "Epoch 4/100\n",
            "129/129 [==============================] - 71s 553ms/step - loss: 0.9015 - accuracy: 0.5787 - val_loss: 0.5808 - val_accuracy: 0.7420 - lr: 0.0100\n",
            "Epoch 5/100\n",
            "129/129 [==============================] - 69s 534ms/step - loss: 0.8831 - accuracy: 0.5817 - val_loss: 0.5864 - val_accuracy: 0.7420 - lr: 0.0100\n",
            "Epoch 6/100\n",
            "129/129 [==============================] - 71s 551ms/step - loss: 0.8816 - accuracy: 0.5889 - val_loss: 0.5874 - val_accuracy: 0.7420 - lr: 0.0100\n",
            "Epoch 7/100\n",
            "129/129 [==============================] - 73s 564ms/step - loss: 0.8540 - accuracy: 0.5999 - val_loss: 0.5950 - val_accuracy: 0.7420 - lr: 0.0100\n",
            "Epoch 8/100\n",
            "129/129 [==============================] - 72s 555ms/step - loss: 0.8317 - accuracy: 0.6105 - val_loss: 0.6046 - val_accuracy: 0.7420 - lr: 0.0100\n",
            "Epoch 9/100\n",
            "129/129 [==============================] - 71s 548ms/step - loss: 0.8192 - accuracy: 0.6210 - val_loss: 0.6123 - val_accuracy: 0.7420 - lr: 0.0100\n",
            "Epoch 10/100\n",
            "129/129 [==============================] - 68s 530ms/step - loss: 0.8099 - accuracy: 0.6231 - val_loss: 0.6347 - val_accuracy: 0.7420 - lr: 0.0100\n",
            "Epoch 11/100\n",
            "129/129 [==============================] - 68s 531ms/step - loss: 0.7948 - accuracy: 0.6375 - val_loss: 0.6442 - val_accuracy: 0.7420 - lr: 0.0100\n",
            "Epoch 12/100\n",
            "129/129 [==============================] - 68s 527ms/step - loss: 0.7586 - accuracy: 0.6540 - val_loss: 0.6573 - val_accuracy: 0.7420 - lr: 0.0100\n",
            "Epoch 13/100\n",
            "129/129 [==============================] - 67s 523ms/step - loss: 0.7489 - accuracy: 0.6608 - val_loss: 0.6741 - val_accuracy: 0.7420 - lr: 0.0100\n",
            "Epoch 14/100\n",
            "129/129 [==============================] - 69s 535ms/step - loss: 0.6996 - accuracy: 0.6799 - val_loss: 0.6914 - val_accuracy: 0.7420 - lr: 0.0100\n",
            "Epoch 15/100\n",
            "129/129 [==============================] - 69s 535ms/step - loss: 0.7122 - accuracy: 0.6828 - val_loss: 0.6965 - val_accuracy: 0.7420 - lr: 0.0100\n",
            "Epoch 16/100\n",
            "129/129 [==============================] - 71s 548ms/step - loss: 0.6943 - accuracy: 0.6845 - val_loss: 0.6932 - val_accuracy: 0.7420 - lr: 0.0100\n",
            "Epoch 17/100\n",
            "129/129 [==============================] - 68s 530ms/step - loss: 0.6897 - accuracy: 0.6913 - val_loss: 0.7042 - val_accuracy: 0.7420 - lr: 0.0100\n",
            "Epoch 18/100\n",
            "129/129 [==============================] - 68s 526ms/step - loss: 0.6932 - accuracy: 0.6882 - val_loss: 0.7109 - val_accuracy: 0.7420 - lr: 0.0100\n",
            "Epoch 19/100\n",
            "129/129 [==============================] - 68s 529ms/step - loss: 0.6788 - accuracy: 0.6984 - val_loss: 0.7139 - val_accuracy: 0.7420 - lr: 0.0100\n",
            "Epoch 20/100\n",
            "129/129 [==============================] - 68s 530ms/step - loss: 0.6607 - accuracy: 0.7146 - val_loss: 0.6917 - val_accuracy: 0.7420 - lr: 0.0100\n",
            "Epoch 21/100\n",
            "129/129 [==============================] - 69s 535ms/step - loss: 0.6355 - accuracy: 0.7139 - val_loss: 0.7019 - val_accuracy: 0.7420 - lr: 0.0100\n",
            "Epoch 22/100\n",
            "129/129 [==============================] - 70s 539ms/step - loss: 0.6685 - accuracy: 0.7064 - val_loss: 0.6953 - val_accuracy: 0.7420 - lr: 0.0100\n",
            "Epoch 23/100\n",
            "129/129 [==============================] - 69s 536ms/step - loss: 0.6395 - accuracy: 0.7161 - val_loss: 0.6993 - val_accuracy: 0.7420 - lr: 0.0100\n",
            "Epoch 24/100\n",
            "129/129 [==============================] - 66s 515ms/step - loss: 0.6365 - accuracy: 0.7209 - val_loss: 0.7002 - val_accuracy: 0.7420 - lr: 0.0100\n",
            "Epoch 25/100\n",
            "129/129 [==============================] - 66s 511ms/step - loss: 0.6089 - accuracy: 0.7302 - val_loss: 0.7084 - val_accuracy: 0.7420 - lr: 0.0100\n",
            "Epoch 26/100\n",
            "129/129 [==============================] - 77s 596ms/step - loss: 0.6050 - accuracy: 0.7389 - val_loss: 0.7134 - val_accuracy: 0.7420 - lr: 0.0100\n",
            "Epoch 27/100\n",
            "129/129 [==============================] - 70s 542ms/step - loss: 0.6136 - accuracy: 0.7331 - val_loss: 0.6933 - val_accuracy: 0.7420 - lr: 0.0100\n",
            "Epoch 28/100\n",
            "129/129 [==============================] - 69s 536ms/step - loss: 0.6128 - accuracy: 0.7311 - val_loss: 0.6833 - val_accuracy: 0.7420 - lr: 0.0100\n",
            "Epoch 29/100\n",
            "129/129 [==============================] - 72s 562ms/step - loss: 0.5779 - accuracy: 0.7491 - val_loss: 0.6884 - val_accuracy: 0.7420 - lr: 0.0100\n",
            "Epoch 30/100\n",
            "129/129 [==============================] - 71s 553ms/step - loss: 0.5898 - accuracy: 0.7425 - val_loss: 0.6724 - val_accuracy: 0.7420 - lr: 0.0100\n",
            "Epoch 31/100\n",
            "129/129 [==============================] - 70s 541ms/step - loss: 0.5736 - accuracy: 0.7518 - val_loss: 0.6601 - val_accuracy: 0.7420 - lr: 0.0100\n",
            "Epoch 32/100\n",
            "129/129 [==============================] - 69s 532ms/step - loss: 0.5794 - accuracy: 0.7408 - val_loss: 0.6447 - val_accuracy: 0.7420 - lr: 0.0100\n",
            "Epoch 33/100\n",
            "129/129 [==============================] - 68s 527ms/step - loss: 0.5839 - accuracy: 0.7450 - val_loss: 0.6496 - val_accuracy: 0.7420 - lr: 0.0100\n",
            "Epoch 34/100\n",
            "129/129 [==============================] - 69s 532ms/step - loss: 0.5472 - accuracy: 0.7636 - val_loss: 0.6506 - val_accuracy: 0.7420 - lr: 0.0100\n",
            "Epoch 35/100\n",
            "129/129 [==============================] - 69s 535ms/step - loss: 0.5662 - accuracy: 0.7535 - val_loss: 0.6410 - val_accuracy: 0.7420 - lr: 0.0100\n",
            "Epoch 36/100\n",
            "129/129 [==============================] - 70s 542ms/step - loss: 0.5591 - accuracy: 0.7564 - val_loss: 0.6589 - val_accuracy: 0.7420 - lr: 0.0100\n",
            "Epoch 37/100\n",
            "129/129 [==============================] - 69s 535ms/step - loss: 0.5356 - accuracy: 0.7632 - val_loss: 0.6536 - val_accuracy: 0.7420 - lr: 0.0100\n",
            "Epoch 38/100\n",
            "129/129 [==============================] - 69s 536ms/step - loss: 0.5507 - accuracy: 0.7617 - val_loss: 0.6452 - val_accuracy: 0.7420 - lr: 0.0100\n",
            "Epoch 39/100\n",
            "129/129 [==============================] - 69s 534ms/step - loss: 0.5222 - accuracy: 0.7780 - val_loss: 0.6467 - val_accuracy: 0.7420 - lr: 0.0100\n",
            "Epoch 40/100\n",
            "129/129 [==============================] - 69s 534ms/step - loss: 0.5509 - accuracy: 0.7666 - val_loss: 0.6318 - val_accuracy: 0.7420 - lr: 0.0100\n",
            "Epoch 41/100\n",
            "129/129 [==============================] - 70s 543ms/step - loss: 0.5343 - accuracy: 0.7661 - val_loss: 0.6439 - val_accuracy: 0.7420 - lr: 0.0100\n",
            "Epoch 42/100\n",
            "129/129 [==============================] - 72s 560ms/step - loss: 0.5262 - accuracy: 0.7746 - val_loss: 0.6343 - val_accuracy: 0.7420 - lr: 0.0100\n",
            "Epoch 43/100\n",
            "129/129 [==============================] - ETA: 0s - loss: 0.5072 - accuracy: 0.7751\n",
            "Epoch 00043: ReduceLROnPlateau reducing learning rate to 0.004999999888241291.\n",
            "129/129 [==============================] - 67s 518ms/step - loss: 0.5072 - accuracy: 0.7751 - val_loss: 0.6425 - val_accuracy: 0.7420 - lr: 0.0100\n",
            "Epoch 44/100\n",
            "129/129 [==============================] - 65s 506ms/step - loss: 0.5396 - accuracy: 0.7743 - val_loss: 0.6332 - val_accuracy: 0.7420 - lr: 0.0050\n",
            "Epoch 45/100\n",
            "129/129 [==============================] - 66s 514ms/step - loss: 0.5220 - accuracy: 0.7816 - val_loss: 0.6349 - val_accuracy: 0.7420 - lr: 0.0050\n",
            "Epoch 46/100\n",
            "129/129 [==============================] - 68s 526ms/step - loss: 0.5436 - accuracy: 0.7685 - val_loss: 0.6395 - val_accuracy: 0.7420 - lr: 0.0050\n",
            "Epoch 47/100\n",
            "129/129 [==============================] - 67s 519ms/step - loss: 0.5122 - accuracy: 0.7772 - val_loss: 0.6347 - val_accuracy: 0.7420 - lr: 0.0050\n",
            "Epoch 48/100\n",
            "129/129 [==============================] - 65s 505ms/step - loss: 0.5011 - accuracy: 0.7838 - val_loss: 0.6277 - val_accuracy: 0.7420 - lr: 0.0050\n",
            "Epoch 49/100\n",
            "129/129 [==============================] - 66s 515ms/step - loss: 0.5422 - accuracy: 0.7726 - val_loss: 0.6326 - val_accuracy: 0.7420 - lr: 0.0050\n",
            "Epoch 50/100\n",
            "129/129 [==============================] - 68s 525ms/step - loss: 0.5246 - accuracy: 0.7709 - val_loss: 0.6188 - val_accuracy: 0.7420 - lr: 0.0050\n",
            "Epoch 51/100\n",
            "129/129 [==============================] - 66s 516ms/step - loss: 0.5130 - accuracy: 0.7763 - val_loss: 0.6279 - val_accuracy: 0.7420 - lr: 0.0050\n",
            "Epoch 52/100\n",
            "129/129 [==============================] - 67s 521ms/step - loss: 0.4973 - accuracy: 0.7760 - val_loss: 0.6375 - val_accuracy: 0.7420 - lr: 0.0050\n",
            "Epoch 53/100\n",
            "129/129 [==============================] - 66s 514ms/step - loss: 0.5036 - accuracy: 0.7838 - val_loss: 0.6324 - val_accuracy: 0.7420 - lr: 0.0050\n",
            "Epoch 54/100\n",
            "129/129 [==============================] - 66s 510ms/step - loss: 0.4967 - accuracy: 0.7906 - val_loss: 0.6253 - val_accuracy: 0.7420 - lr: 0.0050\n",
            "Epoch 55/100\n",
            "129/129 [==============================] - 66s 514ms/step - loss: 0.5059 - accuracy: 0.7785 - val_loss: 0.6103 - val_accuracy: 0.7420 - lr: 0.0050\n",
            "Epoch 56/100\n",
            "129/129 [==============================] - 66s 515ms/step - loss: 0.5016 - accuracy: 0.7838 - val_loss: 0.6228 - val_accuracy: 0.7420 - lr: 0.0050\n",
            "Epoch 57/100\n",
            "129/129 [==============================] - 66s 510ms/step - loss: 0.5136 - accuracy: 0.7775 - val_loss: 0.6233 - val_accuracy: 0.7420 - lr: 0.0050\n",
            "Epoch 58/100\n",
            "129/129 [==============================] - 66s 509ms/step - loss: 0.5072 - accuracy: 0.7889 - val_loss: 0.6281 - val_accuracy: 0.7420 - lr: 0.0050\n",
            "Epoch 59/100\n",
            "129/129 [==============================] - 66s 514ms/step - loss: 0.5084 - accuracy: 0.7865 - val_loss: 0.6216 - val_accuracy: 0.7420 - lr: 0.0050\n",
            "Epoch 60/100\n",
            "129/129 [==============================] - 66s 509ms/step - loss: 0.5131 - accuracy: 0.7833 - val_loss: 0.6023 - val_accuracy: 0.7420 - lr: 0.0050\n",
            "Epoch 61/100\n",
            "129/129 [==============================] - 65s 507ms/step - loss: 0.5013 - accuracy: 0.7823 - val_loss: 0.6116 - val_accuracy: 0.7420 - lr: 0.0050\n",
            "Epoch 62/100\n",
            "129/129 [==============================] - 67s 518ms/step - loss: 0.5003 - accuracy: 0.7772 - val_loss: 0.6039 - val_accuracy: 0.7420 - lr: 0.0050\n",
            "Epoch 63/100\n",
            "129/129 [==============================] - 66s 509ms/step - loss: 0.4917 - accuracy: 0.7843 - val_loss: 0.6089 - val_accuracy: 0.7420 - lr: 0.0050\n",
            "Epoch 64/100\n",
            "129/129 [==============================] - 68s 524ms/step - loss: 0.4983 - accuracy: 0.7850 - val_loss: 0.6092 - val_accuracy: 0.7420 - lr: 0.0050\n",
            "Epoch 65/100\n",
            "129/129 [==============================] - 66s 513ms/step - loss: 0.5045 - accuracy: 0.7855 - val_loss: 0.6001 - val_accuracy: 0.7420 - lr: 0.0050\n",
            "Epoch 66/100\n",
            "129/129 [==============================] - 67s 521ms/step - loss: 0.4872 - accuracy: 0.7918 - val_loss: 0.6070 - val_accuracy: 0.7420 - lr: 0.0050\n",
            "Epoch 67/100\n",
            "129/129 [==============================] - 68s 523ms/step - loss: 0.4898 - accuracy: 0.7838 - val_loss: 0.5975 - val_accuracy: 0.7420 - lr: 0.0050\n",
            "Epoch 68/100\n",
            "129/129 [==============================] - 66s 513ms/step - loss: 0.4736 - accuracy: 0.8010 - val_loss: 0.5933 - val_accuracy: 0.7420 - lr: 0.0050\n",
            "Epoch 69/100\n",
            "129/129 [==============================] - 68s 525ms/step - loss: 0.4937 - accuracy: 0.7867 - val_loss: 0.6006 - val_accuracy: 0.7420 - lr: 0.0050\n",
            "Epoch 70/100\n",
            "129/129 [==============================] - 68s 524ms/step - loss: 0.4957 - accuracy: 0.7852 - val_loss: 0.5913 - val_accuracy: 0.7420 - lr: 0.0050\n",
            "Epoch 71/100\n",
            "129/129 [==============================] - 65s 501ms/step - loss: 0.5028 - accuracy: 0.7806 - val_loss: 0.5926 - val_accuracy: 0.7420 - lr: 0.0050\n",
            "Epoch 72/100\n",
            "129/129 [==============================] - 67s 517ms/step - loss: 0.4767 - accuracy: 0.8013 - val_loss: 0.5715 - val_accuracy: 0.7420 - lr: 0.0050\n",
            "Epoch 73/100\n",
            "129/129 [==============================] - 69s 533ms/step - loss: 0.4831 - accuracy: 0.7901 - val_loss: 0.5791 - val_accuracy: 0.7420 - lr: 0.0050\n",
            "Epoch 74/100\n",
            "129/129 [==============================] - 66s 510ms/step - loss: 0.4724 - accuracy: 0.7957 - val_loss: 0.5779 - val_accuracy: 0.7420 - lr: 0.0050\n",
            "Epoch 75/100\n",
            "129/129 [==============================] - 67s 522ms/step - loss: 0.4849 - accuracy: 0.7886 - val_loss: 0.5728 - val_accuracy: 0.7420 - lr: 0.0050\n",
            "Epoch 76/100\n",
            "129/129 [==============================] - 68s 525ms/step - loss: 0.4792 - accuracy: 0.7896 - val_loss: 0.5741 - val_accuracy: 0.7420 - lr: 0.0050\n",
            "Epoch 77/100\n",
            "129/129 [==============================] - 67s 520ms/step - loss: 0.4844 - accuracy: 0.7911 - val_loss: 0.5681 - val_accuracy: 0.7420 - lr: 0.0050\n",
            "Epoch 78/100\n",
            "129/129 [==============================] - 69s 533ms/step - loss: 0.4822 - accuracy: 0.7916 - val_loss: 0.5681 - val_accuracy: 0.7420 - lr: 0.0050\n",
            "Epoch 79/100\n",
            "129/129 [==============================] - 68s 528ms/step - loss: 0.4786 - accuracy: 0.7945 - val_loss: 0.5628 - val_accuracy: 0.7420 - lr: 0.0050\n",
            "Epoch 80/100\n",
            "129/129 [==============================] - 68s 526ms/step - loss: 0.4931 - accuracy: 0.7886 - val_loss: 0.5627 - val_accuracy: 0.7420 - lr: 0.0050\n",
            "Epoch 81/100\n",
            "129/129 [==============================] - 66s 515ms/step - loss: 0.4765 - accuracy: 0.7988 - val_loss: 0.5672 - val_accuracy: 0.7420 - lr: 0.0050\n",
            "Epoch 82/100\n",
            "129/129 [==============================] - 66s 516ms/step - loss: 0.4766 - accuracy: 0.8015 - val_loss: 0.5555 - val_accuracy: 0.7452 - lr: 0.0050\n",
            "Epoch 83/100\n",
            "129/129 [==============================] - 63s 488ms/step - loss: 0.4873 - accuracy: 0.7896 - val_loss: 0.5559 - val_accuracy: 0.7452 - lr: 0.0050\n",
            "Epoch 84/100\n",
            "129/129 [==============================] - 65s 501ms/step - loss: 0.4734 - accuracy: 0.7928 - val_loss: 0.5474 - val_accuracy: 0.7452 - lr: 0.0050\n",
            "Epoch 85/100\n",
            "129/129 [==============================] - 67s 518ms/step - loss: 0.4648 - accuracy: 0.7942 - val_loss: 0.5519 - val_accuracy: 0.7452 - lr: 0.0050\n",
            "Epoch 86/100\n",
            "129/129 [==============================] - 65s 505ms/step - loss: 0.4647 - accuracy: 0.8010 - val_loss: 0.5666 - val_accuracy: 0.7420 - lr: 0.0050\n",
            "Epoch 87/100\n",
            "129/129 [==============================] - 66s 515ms/step - loss: 0.4667 - accuracy: 0.7940 - val_loss: 0.5517 - val_accuracy: 0.7452 - lr: 0.0050\n",
            "Epoch 88/100\n",
            "129/129 [==============================] - 65s 504ms/step - loss: 0.4567 - accuracy: 0.8003 - val_loss: 0.5521 - val_accuracy: 0.7452 - lr: 0.0050\n",
            "Epoch 89/100\n",
            "129/129 [==============================] - 66s 512ms/step - loss: 0.4671 - accuracy: 0.8044 - val_loss: 0.5295 - val_accuracy: 0.7484 - lr: 0.0050\n",
            "Epoch 90/100\n",
            "129/129 [==============================] - 66s 508ms/step - loss: 0.4712 - accuracy: 0.7964 - val_loss: 0.5340 - val_accuracy: 0.7484 - lr: 0.0050\n",
            "Epoch 91/100\n",
            "129/129 [==============================] - 64s 499ms/step - loss: 0.4606 - accuracy: 0.7988 - val_loss: 0.5358 - val_accuracy: 0.7484 - lr: 0.0050\n",
            "Epoch 92/100\n",
            "129/129 [==============================] - 63s 487ms/step - loss: 0.4642 - accuracy: 0.7983 - val_loss: 0.5363 - val_accuracy: 0.7484 - lr: 0.0050\n",
            "Epoch 93/100\n",
            "129/129 [==============================] - 63s 488ms/step - loss: 0.4623 - accuracy: 0.8044 - val_loss: 0.5299 - val_accuracy: 0.7484 - lr: 0.0050\n",
            "Epoch 94/100\n",
            "129/129 [==============================] - 62s 482ms/step - loss: 0.4588 - accuracy: 0.7976 - val_loss: 0.5386 - val_accuracy: 0.7484 - lr: 0.0050\n",
            "Epoch 95/100\n",
            "129/129 [==============================] - 63s 486ms/step - loss: 0.4409 - accuracy: 0.8100 - val_loss: 0.5429 - val_accuracy: 0.7484 - lr: 0.0050\n",
            "Epoch 96/100\n",
            "129/129 [==============================] - 63s 487ms/step - loss: 0.4651 - accuracy: 0.7954 - val_loss: 0.5162 - val_accuracy: 0.7484 - lr: 0.0050\n",
            "Epoch 97/100\n",
            "129/129 [==============================] - 63s 485ms/step - loss: 0.4624 - accuracy: 0.7993 - val_loss: 0.5306 - val_accuracy: 0.7484 - lr: 0.0050\n",
            "Epoch 98/100\n",
            "129/129 [==============================] - 64s 495ms/step - loss: 0.4623 - accuracy: 0.7957 - val_loss: 0.5158 - val_accuracy: 0.7484 - lr: 0.0050\n",
            "Epoch 99/100\n",
            "129/129 [==============================] - 62s 482ms/step - loss: 0.4712 - accuracy: 0.7879 - val_loss: 0.5207 - val_accuracy: 0.7484 - lr: 0.0050\n",
            "Epoch 100/100\n",
            "129/129 [==============================] - 62s 481ms/step - loss: 0.4540 - accuracy: 0.8008 - val_loss: 0.5140 - val_accuracy: 0.7484 - lr: 0.0050\n"
          ]
        }
      ]
    },
    {
      "cell_type": "code",
      "metadata": {
        "id": "Pvc0_AJ3pHoY"
      },
      "source": [
        "import matplotlib.pyplot as plt\n",
        "def eval_plot(history3):\n",
        "\n",
        "  plt.figure(figsize=(14, 5))\n",
        "\n",
        "  # Accuracy plot\n",
        "  plt.subplot(1, 2, 1)\n",
        "  acc = history3.history['accuracy']\n",
        "  val_acc = history3.history['val_accuracy']\n",
        "  epochs = range(len(acc))\n",
        "  acc_plot, = plt.plot(epochs, acc, 'r')\n",
        "  val_acc_plot, = plt.plot(epochs, val_acc, 'b')\n",
        "  plt.title('Training and Validation Accuracy')\n",
        "  plt.legend([acc_plot, val_acc_plot], ['Training Accuracy', 'Validation Accuracy'])\n",
        "\n",
        "  # Loss plot\n",
        "  plt.subplot(1, 2, 2)\n",
        "  loss = history3.history['loss']\n",
        "  val_loss = history3.history['val_loss']\n",
        "  epochs = range(len(loss))\n",
        "  loss_plot, = plt.plot(epochs, loss, 'r')\n",
        "  val_loss_plot, = plt.plot(epochs, val_loss, 'b')\n",
        "  plt.title('Training and Validation Loss')\n",
        "  plt.legend([loss_plot, val_loss_plot], ['Training Loss', 'Validation Loss'])"
      ],
      "execution_count": null,
      "outputs": []
    },
    {
      "cell_type": "code",
      "metadata": {
        "colab": {
          "base_uri": "https://localhost:8080/",
          "height": 260
        },
        "outputId": "3d93a017-7ba1-4463-f95c-6ed100577eb0",
        "id": "oa0pY0N0pHoZ"
      },
      "source": [
        "eval_plot(history3)"
      ],
      "execution_count": null,
      "outputs": [
        {
          "output_type": "display_data",
          "data": {
            "image/png": "[encoded data removed]",
            "text/plain": [
              "<Figure size 1008x360 with 2 Axes>"
            ]
          },
          "metadata": {
            "needs_background": "light"
          }
        }
      ]
    },
    {
      "cell_type": "code",
      "metadata": {
        "id": "6j_x264wpHoZ"
      },
      "source": [
        "from sklearn.metrics import classification_report, confusion_matrix\n",
        "import seaborn as sns\n",
        "\n",
        "def evaluate(model3):\n",
        "  valid_generator = train_generator.flow_from_directory(\n",
        "      TRAIN_DIR, \n",
        "      target_size=(64,64), \n",
        "      batch_size=32, \n",
        "      class_mode='categorical',\n",
        "      shuffle = False)\n",
        "\n",
        "  batch_size = 32\n",
        "  num_of_test_samples = len(valid_generator.filenames)\n",
        "\n",
        "  Y_pred = model3.predict_generator(valid_generator, num_of_test_samples // batch_size+1)\n",
        "  y_pred = np.argmax(Y_pred, axis=1)\n",
        "\n",
        "  print('\\nConfusion Matrix\\n')\n",
        "  cm = confusion_matrix(valid_generator.classes, y_pred)\n",
        "  plt.figure(figsize=(8, 8))\n",
        "  sns.heatmap(cm, annot=True, fmt='g', vmin=0, cmap='Blues', cbar=False)\n",
        "  plt.xticks(ticks=[0.5, 1.5], labels=['NORMAL', 'PNEUMONIA'])\n",
        "  plt.yticks(ticks=[0.5, 1.5], labels=['NORMAL', 'PNEUMONIA'])\n",
        "  plt.xlabel(\"Predicted\")\n",
        "  plt.ylabel(\"Actual\")\n",
        "  plt.title(\"Confusion Matrix\")\n",
        "  plt.show()\n",
        "\n",
        "  print('\\n\\nClassification Report\\n')\n",
        "  target_names = ['NORMAL', 'PNEUMONIA']\n",
        "  print(classification_report(valid_generator.classes, y_pred, target_names=target_names))\n",
        "\n",
        "  tn, fp, fn, tp = cm.ravel()\n",
        "\n",
        "  precision = tp/(tp+fp)\n",
        "  recall = tp/(tp+fn)\n",
        "  f = 2*((precision*recall)/(precision+recall))\n",
        "\n",
        "  print(\"Recall of the model3 is {:.2f}\".format(recall))\n",
        "  print(\"Precision of the model3 is {:.2f}\".format(precision))\n",
        "  print(\"F-1 Score of the model3 is {:.2f}\".format(f)) "
      ],
      "execution_count": null,
      "outputs": []
    },
    {
      "cell_type": "code",
      "metadata": {
        "colab": {
          "base_uri": "https://localhost:8080/",
          "height": 1000
        },
        "outputId": "fb0c1a2e-b216-4e91-e540-4c85c5e0d22d",
        "id": "IAAKyZ5qpHoa"
      },
      "source": [
        "evaluate(model3)"
      ],
      "execution_count": null,
      "outputs": [
        {
          "output_type": "stream",
          "name": "stdout",
          "text": [
            "Found 4121 images belonging to 2 classes.\n"
          ]
        },
        {
          "output_type": "stream",
          "name": "stderr",
          "text": [
            "/usr/local/lib/python3.7/dist-packages/ipykernel_launcher.py:15: UserWarning: `Model.predict_generator` is deprecated and will be removed in a future version. Please use `Model.predict`, which supports generators.\n",
            "  from ipykernel import kernelapp as app\n"
          ]
        },
        {
          "output_type": "stream",
          "name": "stdout",
          "text": [
            "\n",
            "Confusion Matrix\n",
            "\n"
          ]
        },
        {
          "output_type": "display_data",
          "data": {
            "image/png": "[encoded data removed]",
            "text/plain": [
              "<Figure size 576x576 with 1 Axes>"
            ]
          },
          "metadata": {
            "needs_background": "light"
          }
        },
        {
          "output_type": "stream",
          "name": "stdout",
          "text": [
            "\n",
            "\n",
            "Classification Report\n",
            "\n",
            "              precision    recall  f1-score   support\n",
            "\n",
            "      NORMAL       0.00      0.00      0.00      1059\n",
            "   PNEUMONIA       0.74      1.00      0.85      3062\n",
            "\n",
            "    accuracy                           0.74      4121\n",
            "   macro avg       0.37      0.50      0.43      4121\n",
            "weighted avg       0.55      0.74      0.63      4121\n",
            "\n",
            "Recall of the model3 is 1.00\n",
            "Precision of the model3 is 0.74\n",
            "F-1 Score of the model3 is 0.85\n"
          ]
        },
        {
          "output_type": "stream",
          "name": "stderr",
          "text": [
            "/usr/local/lib/python3.7/dist-packages/sklearn/metrics/_classification.py:1308: UndefinedMetricWarning: Precision and F-score are ill-defined and being set to 0.0 in labels with no predicted samples. Use `zero_division` parameter to control this behavior.\n",
            "  _warn_prf(average, modifier, msg_start, len(result))\n",
            "/usr/local/lib/python3.7/dist-packages/sklearn/metrics/_classification.py:1308: UndefinedMetricWarning: Precision and F-score are ill-defined and being set to 0.0 in labels with no predicted samples. Use `zero_division` parameter to control this behavior.\n",
            "  _warn_prf(average, modifier, msg_start, len(result))\n",
            "/usr/local/lib/python3.7/dist-packages/sklearn/metrics/_classification.py:1308: UndefinedMetricWarning: Precision and F-score are ill-defined and being set to 0.0 in labels with no predicted samples. Use `zero_division` parameter to control this behavior.\n",
            "  _warn_prf(average, modifier, msg_start, len(result))\n"
          ]
        }
      ]
    },
    {
      "cell_type": "code",
      "metadata": {
        "id": "SAQBg41PpHoa"
      },
      "source": [
        "# serialize model to JSON\n",
        "model_json = model3.to_json()\n",
        "with open(\"ML.json\", \"w\") as json_file: json_file.write(model_json)"
      ],
      "execution_count": null,
      "outputs": []
    },
    {
      "cell_type": "code",
      "metadata": {
        "colab": {
          "base_uri": "https://localhost:8080/"
        },
        "outputId": "f4918366-502e-4630-ca2e-c1eca749640d",
        "id": "ecVcGw5vpHoa"
      },
      "source": [
        "# serialize weights to HDF5\n",
        "model3.save(\"model3.h5\")\n",
        "print(\"Saved model to disk\")"
      ],
      "execution_count": null,
      "outputs": [
        {
          "output_type": "stream",
          "name": "stdout",
          "text": [
            "Saved model to disk\n"
          ]
        }
      ]
    }
  ]
}