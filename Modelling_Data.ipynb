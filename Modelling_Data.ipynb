{
  "nbformat": 4,
  "nbformat_minor": 0,
  "metadata": {
    "colab": {
      "name": "Modelling Data.ipynb",
      "provenance": []
    },
    "kernelspec": {
      "name": "python3",
      "display_name": "Python 3"
    },
    "language_info": {
      "name": "python"
    }
  },
  "cells": [
    {
      "cell_type": "code",
      "metadata": {
        "id": "uxysFVd64lo4"
      },
      "source": [
        "from tensorflow.keras import Model\n",
        "from tensorflow.keras.models import Sequential\n",
        "from keras.layers import Dense, Conv2D , MaxPool2D , Flatten , Dropout , GlobalMaxPool2D\n",
        "\n",
        "model = Sequential()\n",
        "model.add(Conv2D(filters = 32, kernel_size=(3, 3), input_shape = (250, 250, 3), activation = 'relu')),\n",
        "model.add(MaxPool2D(pool_size=(2,2))),\n",
        "\n",
        "model.add(Conv2D(filters = 32, kernel_size=(3, 3), activation = 'relu')),\n",
        "model.add(GlobalMaxPool2D(input_shape=(250, 250, 3)))\n",
        "\n",
        "model.add(Flatten()),\n",
        "model.add(Dense(128, activation='relu')), \n",
        "model.add(Dense(10, activation='relu')),\n",
        "model.add(Dense(1,activation='sigmoid'))\n",
        "\n",
        "model.summary()"
      ],
      "execution_count": null,
      "outputs": []
    },
    {
      "cell_type": "code",
      "metadata": {
        "id": "q41YRiO74y3s"
      },
      "source": [
        "# Model Scenario Kedua\n",
        "from tensorflow.keras import layers\n",
        "from tensorflow.keras import Model\n",
        "from tensorflow.keras.models import Sequential\n",
        "from tensorflow.keras.layers import Conv2D, AveragePooling2D, GlobalAveragePooling2D, Flatten, Dense\n",
        "\n",
        "# Average Pooling 2D\n",
        "model2 = Sequential()\n",
        "model2.add(Conv2D(filters = 32, kernel_size=(3, 3), input_shape = (250, 250, 3), activation = 'relu')),\n",
        "model2.add(AveragePooling2D(pool_size=(2,2))),\n",
        "\n",
        "# Average Global Pooling 2D\n",
        "model2.add(Conv2D(filters = 32, kernel_size=(3, 3), activation = 'relu')),\n",
        "model2.add(GlobalAveragePooling2D(input_shape=(250, 250, 3)))\n",
        "\n",
        "model2.add(Flatten()),\n",
        "model2.add(Dense(128, activation='relu')), \n",
        "model2.add(Dense(10, activation='relu')),\n",
        "model2.add(Dense(1,activation='sigmoid'))\n",
        "\n",
        "model2.summary()"
      ],
      "execution_count": null,
      "outputs": []
    },
    {
      "cell_type": "code",
      "metadata": {
        "id": "eVcwV8Dx48gl"
      },
      "source": [
        "from tensorflow.keras.optimizers import Adam\n",
        "\n",
        "# Compile model\n",
        "model.compile(loss='binary_crossentropy',\n",
        "              optimizer=Adam(lr = 0.001), #\n",
        "              metrics=['acc'])\n",
        "H = model.fit(x_train, y_train, batch_size=32, epochs=50, validation_data=(x_test, y_test))"
      ],
      "execution_count": null,
      "outputs": []
    },
    {
      "cell_type": "code",
      "metadata": {
        "id": "JGGevMiV5Dnf"
      },
      "source": [
        "from tensorflow.keras.optimizers import Adam\n",
        "\n",
        "# Compile model\n",
        "model2.compile(loss='binary_crossentropy',\n",
        "              optimizer=Adam(lr = 0.001), #\n",
        "              metrics=['acc'])\n",
        "H2 = model2.fit(x_train, y_train, batch_size=32, epochs=50, validation_data=(x_test, y_test))"
      ],
      "execution_count": null,
      "outputs": []
    }
  ]
}